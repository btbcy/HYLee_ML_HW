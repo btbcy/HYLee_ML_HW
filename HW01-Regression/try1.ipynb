{
 "cells": [
  {
   "cell_type": "code",
   "execution_count": 1,
   "metadata": {},
   "outputs": [],
   "source": [
    "from model import LinearRegression\n",
    "from scaler import StandardScaler\n",
    "import numpy as np\n",
    "import pandas as pd"
   ]
  },
  {
   "cell_type": "code",
   "execution_count": 2,
   "metadata": {},
   "outputs": [],
   "source": [
    "import matplotlib.pyplot as plt\n",
    "import seaborn as sns\n",
    "%matplotlib inline"
   ]
  },
  {
   "cell_type": "code",
   "execution_count": 3,
   "metadata": {},
   "outputs": [],
   "source": [
    "train_data = pd.read_csv('input\\\\train.csv', encoding='big5')\n",
    "train_data.drop(columns=u'測站', inplace=True)\n",
    "train_data.replace('NR', 0, inplace=True)\n",
    "\n",
    "for i in range(24):\n",
    "    train_data['%d' % i] = train_data['%d' % i].astype('float64')\n",
    "measure_name = train_data.iloc[0:18, 1]\n",
    "\n",
    "result = []\n",
    "day = 1\n",
    "month = 1\n",
    "\n",
    "for i in range(0, train_data.shape[0], 18):\n",
    "    temp = train_data.iloc[i:i+18, 2:].T\n",
    "    temp.columns = measure_name\n",
    "    temp.insert(loc=0, column='month', value='%d' % month)\n",
    "    temp.insert(loc=1, column='day', value='%d' % day)\n",
    "    temp.insert(loc=2, column='hr', value=temp.index)\n",
    "    result.append(temp)\n",
    "    if day < 20:\n",
    "        day += 1\n",
    "    else:\n",
    "        day = 1\n",
    "        month += 1\n",
    "train = pd.concat(result, ignore_index=True)\n",
    "train.columns.name = None"
   ]
  },
  {
   "cell_type": "code",
   "execution_count": 4,
   "metadata": {},
   "outputs": [
    {
     "data": {
      "text/html": [
       "<div>\n",
       "<style scoped>\n",
       "    .dataframe tbody tr th:only-of-type {\n",
       "        vertical-align: middle;\n",
       "    }\n",
       "\n",
       "    .dataframe tbody tr th {\n",
       "        vertical-align: top;\n",
       "    }\n",
       "\n",
       "    .dataframe thead th {\n",
       "        text-align: right;\n",
       "    }\n",
       "</style>\n",
       "<table border=\"1\" class=\"dataframe\">\n",
       "  <thead>\n",
       "    <tr style=\"text-align: right;\">\n",
       "      <th></th>\n",
       "      <th>ID</th>\n",
       "      <th>hr</th>\n",
       "      <th>AMB_TEMP</th>\n",
       "      <th>CH4</th>\n",
       "      <th>CO</th>\n",
       "      <th>NMHC</th>\n",
       "      <th>NO</th>\n",
       "      <th>NO2</th>\n",
       "      <th>NOx</th>\n",
       "      <th>O3</th>\n",
       "      <th>PM10</th>\n",
       "      <th>PM2.5</th>\n",
       "      <th>RAINFALL</th>\n",
       "      <th>RH</th>\n",
       "      <th>SO2</th>\n",
       "      <th>THC</th>\n",
       "      <th>WD_HR</th>\n",
       "      <th>WIND_DIREC</th>\n",
       "      <th>WIND_SPEED</th>\n",
       "      <th>WS_HR</th>\n",
       "    </tr>\n",
       "  </thead>\n",
       "  <tbody>\n",
       "    <tr>\n",
       "      <th>0</th>\n",
       "      <td>id_0</td>\n",
       "      <td>1</td>\n",
       "      <td>21.0</td>\n",
       "      <td>1.7</td>\n",
       "      <td>0.39</td>\n",
       "      <td>0.16</td>\n",
       "      <td>1.3</td>\n",
       "      <td>17.0</td>\n",
       "      <td>18.0</td>\n",
       "      <td>32.0</td>\n",
       "      <td>62.0</td>\n",
       "      <td>33.0</td>\n",
       "      <td>0.0</td>\n",
       "      <td>83.0</td>\n",
       "      <td>2.0</td>\n",
       "      <td>1.8</td>\n",
       "      <td>58.0</td>\n",
       "      <td>57.0</td>\n",
       "      <td>1.4</td>\n",
       "      <td>1.0</td>\n",
       "    </tr>\n",
       "    <tr>\n",
       "      <th>1</th>\n",
       "      <td>id_0</td>\n",
       "      <td>2</td>\n",
       "      <td>21.0</td>\n",
       "      <td>1.7</td>\n",
       "      <td>0.36</td>\n",
       "      <td>0.24</td>\n",
       "      <td>1.3</td>\n",
       "      <td>14.0</td>\n",
       "      <td>16.0</td>\n",
       "      <td>31.0</td>\n",
       "      <td>50.0</td>\n",
       "      <td>39.0</td>\n",
       "      <td>0.0</td>\n",
       "      <td>85.0</td>\n",
       "      <td>1.8</td>\n",
       "      <td>1.9</td>\n",
       "      <td>53.0</td>\n",
       "      <td>44.0</td>\n",
       "      <td>1.3</td>\n",
       "      <td>0.9</td>\n",
       "    </tr>\n",
       "    <tr>\n",
       "      <th>2</th>\n",
       "      <td>id_0</td>\n",
       "      <td>3</td>\n",
       "      <td>20.0</td>\n",
       "      <td>1.7</td>\n",
       "      <td>0.36</td>\n",
       "      <td>0.22</td>\n",
       "      <td>1.3</td>\n",
       "      <td>13.0</td>\n",
       "      <td>14.0</td>\n",
       "      <td>31.0</td>\n",
       "      <td>44.0</td>\n",
       "      <td>39.0</td>\n",
       "      <td>0.0</td>\n",
       "      <td>87.0</td>\n",
       "      <td>1.8</td>\n",
       "      <td>1.9</td>\n",
       "      <td>67.0</td>\n",
       "      <td>73.0</td>\n",
       "      <td>1.5</td>\n",
       "      <td>0.9</td>\n",
       "    </tr>\n",
       "    <tr>\n",
       "      <th>3</th>\n",
       "      <td>id_0</td>\n",
       "      <td>4</td>\n",
       "      <td>20.0</td>\n",
       "      <td>1.7</td>\n",
       "      <td>0.40</td>\n",
       "      <td>0.27</td>\n",
       "      <td>1.3</td>\n",
       "      <td>14.0</td>\n",
       "      <td>15.0</td>\n",
       "      <td>26.0</td>\n",
       "      <td>39.0</td>\n",
       "      <td>25.0</td>\n",
       "      <td>0.0</td>\n",
       "      <td>87.0</td>\n",
       "      <td>1.8</td>\n",
       "      <td>2.0</td>\n",
       "      <td>59.0</td>\n",
       "      <td>44.0</td>\n",
       "      <td>1.4</td>\n",
       "      <td>0.9</td>\n",
       "    </tr>\n",
       "    <tr>\n",
       "      <th>4</th>\n",
       "      <td>id_0</td>\n",
       "      <td>5</td>\n",
       "      <td>19.0</td>\n",
       "      <td>1.7</td>\n",
       "      <td>0.53</td>\n",
       "      <td>0.27</td>\n",
       "      <td>1.4</td>\n",
       "      <td>18.0</td>\n",
       "      <td>20.0</td>\n",
       "      <td>16.0</td>\n",
       "      <td>38.0</td>\n",
       "      <td>18.0</td>\n",
       "      <td>0.0</td>\n",
       "      <td>86.0</td>\n",
       "      <td>2.1</td>\n",
       "      <td>2.0</td>\n",
       "      <td>59.0</td>\n",
       "      <td>56.0</td>\n",
       "      <td>1.6</td>\n",
       "      <td>1.2</td>\n",
       "    </tr>\n",
       "  </tbody>\n",
       "</table>\n",
       "</div>"
      ],
      "text/plain": [
       "     ID  hr  AMB_TEMP  CH4    CO  NMHC   NO   NO2   NOx    O3  PM10  PM2.5  \\\n",
       "0  id_0   1      21.0  1.7  0.39  0.16  1.3  17.0  18.0  32.0  62.0   33.0   \n",
       "1  id_0   2      21.0  1.7  0.36  0.24  1.3  14.0  16.0  31.0  50.0   39.0   \n",
       "2  id_0   3      20.0  1.7  0.36  0.22  1.3  13.0  14.0  31.0  44.0   39.0   \n",
       "3  id_0   4      20.0  1.7  0.40  0.27  1.3  14.0  15.0  26.0  39.0   25.0   \n",
       "4  id_0   5      19.0  1.7  0.53  0.27  1.4  18.0  20.0  16.0  38.0   18.0   \n",
       "\n",
       "   RAINFALL    RH  SO2  THC  WD_HR  WIND_DIREC  WIND_SPEED  WS_HR  \n",
       "0       0.0  83.0  2.0  1.8   58.0        57.0         1.4    1.0  \n",
       "1       0.0  85.0  1.8  1.9   53.0        44.0         1.3    0.9  \n",
       "2       0.0  87.0  1.8  1.9   67.0        73.0         1.5    0.9  \n",
       "3       0.0  87.0  1.8  2.0   59.0        44.0         1.4    0.9  \n",
       "4       0.0  86.0  2.1  2.0   59.0        56.0         1.6    1.2  "
      ]
     },
     "execution_count": 4,
     "metadata": {},
     "output_type": "execute_result"
    }
   ],
   "source": [
    "test_data = pd.read_csv('input\\\\test.csv', header=None, encoding='big5')\n",
    "test_data.replace('NR', 0, inplace=True)\n",
    "for i in range(2, 11):\n",
    "    test_data.iloc[:, i] = test_data.iloc[:, i].astype('float64')\n",
    "measure_name = test_data.iloc[0:18, 1]\n",
    "\n",
    "result = []\n",
    "id_ = 0\n",
    "\n",
    "for i in range(0, test_data.shape[0], 18):\n",
    "    temp = test_data.iloc[i:i+18, 2:].T\n",
    "    temp.columns = measure_name\n",
    "    temp.insert(loc=0, column='ID', value='id_%d' % id_)\n",
    "    temp.insert(loc=1, column='hr', value=temp.index-1)\n",
    "    result.append(temp)\n",
    "    id_ +=1\n",
    "        \n",
    "test = pd.concat(result, ignore_index=True)\n",
    "test.columns.name = None\n",
    "test.head()"
   ]
  },
  {
   "cell_type": "code",
   "execution_count": 5,
   "metadata": {},
   "outputs": [
    {
     "data": {
      "text/html": [
       "<div>\n",
       "<style scoped>\n",
       "    .dataframe tbody tr th:only-of-type {\n",
       "        vertical-align: middle;\n",
       "    }\n",
       "\n",
       "    .dataframe tbody tr th {\n",
       "        vertical-align: top;\n",
       "    }\n",
       "\n",
       "    .dataframe thead th {\n",
       "        text-align: right;\n",
       "    }\n",
       "</style>\n",
       "<table border=\"1\" class=\"dataframe\">\n",
       "  <thead>\n",
       "    <tr style=\"text-align: right;\">\n",
       "      <th></th>\n",
       "      <th>month</th>\n",
       "      <th>day</th>\n",
       "      <th>hr</th>\n",
       "      <th>AMB_TEMP</th>\n",
       "      <th>CH4</th>\n",
       "      <th>CO</th>\n",
       "      <th>NMHC</th>\n",
       "      <th>NO</th>\n",
       "      <th>NO2</th>\n",
       "      <th>NOx</th>\n",
       "      <th>...</th>\n",
       "      <th>PM10</th>\n",
       "      <th>PM2.5</th>\n",
       "      <th>RAINFALL</th>\n",
       "      <th>RH</th>\n",
       "      <th>SO2</th>\n",
       "      <th>THC</th>\n",
       "      <th>WD_HR</th>\n",
       "      <th>WIND_DIREC</th>\n",
       "      <th>WIND_SPEED</th>\n",
       "      <th>WS_HR</th>\n",
       "    </tr>\n",
       "  </thead>\n",
       "  <tbody>\n",
       "    <tr>\n",
       "      <th>0</th>\n",
       "      <td>1</td>\n",
       "      <td>1</td>\n",
       "      <td>1</td>\n",
       "      <td>14.0</td>\n",
       "      <td>1.8</td>\n",
       "      <td>0.41</td>\n",
       "      <td>0.15</td>\n",
       "      <td>0.6</td>\n",
       "      <td>9.2</td>\n",
       "      <td>9.8</td>\n",
       "      <td>...</td>\n",
       "      <td>50.0</td>\n",
       "      <td>26.0</td>\n",
       "      <td>0.0</td>\n",
       "      <td>68.0</td>\n",
       "      <td>2.0</td>\n",
       "      <td>2.0</td>\n",
       "      <td>80.0</td>\n",
       "      <td>79.0</td>\n",
       "      <td>1.8</td>\n",
       "      <td>0.9</td>\n",
       "    </tr>\n",
       "    <tr>\n",
       "      <th>1</th>\n",
       "      <td>1</td>\n",
       "      <td>1</td>\n",
       "      <td>2</td>\n",
       "      <td>14.0</td>\n",
       "      <td>1.8</td>\n",
       "      <td>0.39</td>\n",
       "      <td>0.13</td>\n",
       "      <td>0.5</td>\n",
       "      <td>8.2</td>\n",
       "      <td>8.7</td>\n",
       "      <td>...</td>\n",
       "      <td>48.0</td>\n",
       "      <td>39.0</td>\n",
       "      <td>0.0</td>\n",
       "      <td>67.0</td>\n",
       "      <td>1.7</td>\n",
       "      <td>2.0</td>\n",
       "      <td>57.0</td>\n",
       "      <td>2.4</td>\n",
       "      <td>1.0</td>\n",
       "      <td>0.6</td>\n",
       "    </tr>\n",
       "    <tr>\n",
       "      <th>2</th>\n",
       "      <td>1</td>\n",
       "      <td>1</td>\n",
       "      <td>3</td>\n",
       "      <td>13.0</td>\n",
       "      <td>1.8</td>\n",
       "      <td>0.37</td>\n",
       "      <td>0.12</td>\n",
       "      <td>1.7</td>\n",
       "      <td>6.9</td>\n",
       "      <td>8.6</td>\n",
       "      <td>...</td>\n",
       "      <td>35.0</td>\n",
       "      <td>36.0</td>\n",
       "      <td>0.0</td>\n",
       "      <td>74.0</td>\n",
       "      <td>1.6</td>\n",
       "      <td>1.9</td>\n",
       "      <td>76.0</td>\n",
       "      <td>55.0</td>\n",
       "      <td>0.6</td>\n",
       "      <td>0.3</td>\n",
       "    </tr>\n",
       "    <tr>\n",
       "      <th>3</th>\n",
       "      <td>1</td>\n",
       "      <td>1</td>\n",
       "      <td>4</td>\n",
       "      <td>12.0</td>\n",
       "      <td>1.8</td>\n",
       "      <td>0.35</td>\n",
       "      <td>0.11</td>\n",
       "      <td>1.8</td>\n",
       "      <td>6.8</td>\n",
       "      <td>8.5</td>\n",
       "      <td>...</td>\n",
       "      <td>25.0</td>\n",
       "      <td>35.0</td>\n",
       "      <td>0.0</td>\n",
       "      <td>72.0</td>\n",
       "      <td>1.9</td>\n",
       "      <td>1.9</td>\n",
       "      <td>110.0</td>\n",
       "      <td>94.0</td>\n",
       "      <td>1.7</td>\n",
       "      <td>0.6</td>\n",
       "    </tr>\n",
       "    <tr>\n",
       "      <th>4</th>\n",
       "      <td>1</td>\n",
       "      <td>1</td>\n",
       "      <td>5</td>\n",
       "      <td>12.0</td>\n",
       "      <td>1.8</td>\n",
       "      <td>0.30</td>\n",
       "      <td>0.06</td>\n",
       "      <td>1.5</td>\n",
       "      <td>3.8</td>\n",
       "      <td>5.3</td>\n",
       "      <td>...</td>\n",
       "      <td>12.0</td>\n",
       "      <td>31.0</td>\n",
       "      <td>0.0</td>\n",
       "      <td>73.0</td>\n",
       "      <td>1.4</td>\n",
       "      <td>1.8</td>\n",
       "      <td>106.0</td>\n",
       "      <td>116.0</td>\n",
       "      <td>2.5</td>\n",
       "      <td>1.9</td>\n",
       "    </tr>\n",
       "  </tbody>\n",
       "</table>\n",
       "<p>5 rows × 21 columns</p>\n",
       "</div>"
      ],
      "text/plain": [
       "   month  day  hr  AMB_TEMP  CH4    CO  NMHC   NO  NO2  NOx  ...  PM10  PM2.5  \\\n",
       "0      1    1   1      14.0  1.8  0.41  0.15  0.6  9.2  9.8  ...  50.0   26.0   \n",
       "1      1    1   2      14.0  1.8  0.39  0.13  0.5  8.2  8.7  ...  48.0   39.0   \n",
       "2      1    1   3      13.0  1.8  0.37  0.12  1.7  6.9  8.6  ...  35.0   36.0   \n",
       "3      1    1   4      12.0  1.8  0.35  0.11  1.8  6.8  8.5  ...  25.0   35.0   \n",
       "4      1    1   5      12.0  1.8  0.30  0.06  1.5  3.8  5.3  ...  12.0   31.0   \n",
       "\n",
       "   RAINFALL    RH  SO2  THC  WD_HR  WIND_DIREC  WIND_SPEED  WS_HR  \n",
       "0       0.0  68.0  2.0  2.0   80.0        79.0         1.8    0.9  \n",
       "1       0.0  67.0  1.7  2.0   57.0         2.4         1.0    0.6  \n",
       "2       0.0  74.0  1.6  1.9   76.0        55.0         0.6    0.3  \n",
       "3       0.0  72.0  1.9  1.9  110.0        94.0         1.7    0.6  \n",
       "4       0.0  73.0  1.4  1.8  106.0       116.0         2.5    1.9  \n",
       "\n",
       "[5 rows x 21 columns]"
      ]
     },
     "execution_count": 5,
     "metadata": {},
     "output_type": "execute_result"
    }
   ],
   "source": [
    "train_shift_1 = train.copy()\n",
    "train_shift_1['PM2.5'] = train['PM2.5'].shift(1)\n",
    "condition = (train_shift_1['hr'] == '0') & (train_shift_1['day'] == '1')\n",
    "train_shift_1.drop(train_shift_1[condition].index, inplace=True)\n",
    "train_shift_1.reset_index(drop=True, inplace=True)\n",
    "train_shift_1['month'] = train_shift_1['month'].astype('int64')\n",
    "train_shift_1['day'] = train_shift_1['day'].astype('int64')\n",
    "train_shift_1['hr'] = train_shift_1['hr'].astype('int64')\n",
    "train_shift_1.head()"
   ]
  },
  {
   "cell_type": "code",
   "execution_count": 113,
   "metadata": {},
   "outputs": [],
   "source": [
    "# train_X = train_shift_1[['month', 'day', 'hr', 'PM10', 'NO2', 'SO2', 'THC']].copy()\n",
    "# train_X = train_shift_1[['month', 'day', 'hr']].copy()\n",
    "train_X = train_shift_1[['day']].copy()\n",
    "test_X = pd.DataFrame()\n",
    "test_X['ID'] = test['ID'].copy()\n",
    "# features = ['PM10']\n",
    "# features = ['PM10', 'NO2', 'SO2', 'THC', 'RAINFALL', 'NOx']\n",
    "features = measure_name.tolist()\n",
    "features.remove('PM2.5')\n",
    "scaler = dict()\n",
    "for ft in features:\n",
    "    scaler[ft] = StandardScaler()\n",
    "    scaler[ft].fit(train_shift_1[ft].to_numpy())\n",
    "    train_X[ft] = scaler[ft].transform(train_shift_1[ft].to_numpy())\n",
    "    test_X[ft] = scaler[ft].transform(test[ft].to_numpy())\n",
    "    \n",
    "# train_X['PM10'] = standard_scaler_transform(train_shift_1)"
   ]
  },
  {
   "cell_type": "code",
   "execution_count": 114,
   "metadata": {},
   "outputs": [],
   "source": [
    "trainX_set = []\n",
    "trainX_set.append(train_X[train_X['day'] <= 5].drop(columns='day').reset_index(drop=True))\n",
    "trainX_set.append(train_X[(train_X['day'] > 5) & (train_X['day'] <= 10)].drop(columns='day').reset_index(drop=True))\n",
    "trainX_set.append(train_X[(train_X['day'] > 10) & (train_X['day'] <= 15)].drop(columns='day').reset_index(drop=True))\n",
    "trainX_set.append(train_X[(train_X['day'] > 15) & (train_X['day'] <= 20)].drop(columns='day').reset_index(drop=True))\n",
    "\n",
    "train_Y = train_shift_1[['day', 'PM2.5']].copy()\n",
    "trainY_set = []\n",
    "trainY_set.append(train_Y[train_Y['day'] <= 5].drop(columns='day').reset_index(drop=True))\n",
    "trainY_set.append(train_Y[(train_Y['day'] > 5) & (train_Y['day'] <= 10)].drop(columns='day').reset_index(drop=True))\n",
    "trainY_set.append(train_Y[(train_Y['day'] > 10) & (train_Y['day'] <= 15)].drop(columns='day').reset_index(drop=True))\n",
    "trainY_set.append(train_Y[(train_Y['day'] > 15) & (train_Y['day'] <= 20)].drop(columns='day').reset_index(drop=True))"
   ]
  },
  {
   "cell_type": "code",
   "execution_count": 115,
   "metadata": {},
   "outputs": [
    {
     "data": {
      "text/plain": [
       "array([ 2.14681593e+01, -1.28818359e+00,  3.49539254e-01,  5.41097265e-01,\n",
       "       -9.86724015e-01, -1.28182931e+00,  1.04343320e+00,  1.35312619e+00,\n",
       "        2.30801861e+00,  1.06521239e+01, -3.44463282e-01,  5.09504290e-01,\n",
       "        8.56012148e-01, -1.60587504e-01, -3.07526467e-01, -1.99836492e-02,\n",
       "       -2.06634098e+00,  1.41957492e+00])"
      ]
     },
     "execution_count": 115,
     "metadata": {},
     "output_type": "execute_result"
    }
   ],
   "source": [
    "to_train_X = pd.concat([trainX_set[0], trainX_set[1], trainX_set[2]])\n",
    "to_train_Y = pd.concat([trainY_set[0], trainY_set[1], trainY_set[2]])\n",
    "to_test_X = trainX_set[3].copy()\n",
    "to_test_Y = trainY_set[3].copy()\n",
    "\n",
    "lr = LinearRegression(max_iter=1000, eta0=1, learning_rate='Adagrad')\n",
    "lr.fit(to_train_X.to_numpy(), to_train_Y['PM2.5'].to_numpy())"
   ]
  },
  {
   "cell_type": "code",
   "execution_count": 116,
   "metadata": {},
   "outputs": [
    {
     "name": "stdout",
     "output_type": "stream",
     "text": [
      "[483087.89172171545, 483087.87145279086, 483087.85120913025, 483087.8309905717, 483087.81079695624]\n",
      "0.6273960970639765\n"
     ]
    },
    {
     "data": {
      "text/plain": [
       "[<matplotlib.lines.Line2D at 0x224f2781c70>]"
      ]
     },
     "execution_count": 116,
     "metadata": {},
     "output_type": "execute_result"
    },
    {
     "data": {
      "image/png": "[encoded data removed]",
      "text/plain": [
       "<Figure size 432x288 with 1 Axes>"
      ]
     },
     "metadata": {
      "needs_background": "light"
     },
     "output_type": "display_data"
    }
   ],
   "source": [
    "loss_trend = lr.loss_trend()\n",
    "print(loss_trend[-5:])\n",
    "print(lr.score(to_test_X.to_numpy(), to_test_Y['PM2.5'].to_numpy()))\n",
    "plt.plot(np.arange(1, len(loss_trend)+1), loss_trend)"
   ]
  },
  {
   "cell_type": "code",
   "execution_count": 117,
   "metadata": {},
   "outputs": [],
   "source": [
    "lr = []\n",
    "score = []\n",
    "loss_trend = []\n",
    "weight = []\n",
    "for i in range(4):\n",
    "    all_ = list(range(4))\n",
    "    all_.remove(i)\n",
    "    to_train_X = pd.concat([trainX_set[all_[0]], trainX_set[all_[1]], trainX_set[all_[2]]])\n",
    "    to_train_Y = pd.concat([trainY_set[all_[0]], trainY_set[all_[1]], trainY_set[all_[2]]])\n",
    "    to_test_X = trainX_set[i].copy()\n",
    "    to_test_Y = trainY_set[i].copy()\n",
    "    \n",
    "    lr.append(LinearRegression(max_iter=2000, eta0=1, learning_rate='Adagrad'))\n",
    "    weight.append(lr[i].fit(to_train_X.to_numpy(), to_train_Y['PM2.5'].to_numpy()))\n",
    "    loss_trend.append(lr[i].loss_trend())\n",
    "    score.append(lr[i].score(to_test_X.to_numpy(), to_test_Y['PM2.5'].to_numpy()))"
   ]
  },
  {
   "cell_type": "code",
   "execution_count": 118,
   "metadata": {},
   "outputs": [
    {
     "name": "stdout",
     "output_type": "stream",
     "text": [
      "[441238.3965880618, 441238.39540664427, 441238.3942263212]\n",
      "0.457814240681921\n",
      "[503498.6625484746, 503498.64642311644, 503498.63030856784]\n",
      "0.584164609229672\n",
      "[502511.057457839, 502511.04712038103, 502511.03679258627]\n",
      "0.6342577973816789\n",
      "[483074.45699163375, 483074.44845133234, 483074.4399181738]\n",
      "0.6273462687610472\n"
     ]
    }
   ],
   "source": [
    "for i in range(4):\n",
    "    print(loss_trend[i][-3:])\n",
    "    print(score[i])"
   ]
  },
  {
   "cell_type": "code",
   "execution_count": 105,
   "metadata": {},
   "outputs": [
    {
     "data": {
      "text/plain": [
       "([array([20.95626154, -1.12410165,  0.85268153,  0.33279306, -1.41547425,\n",
       "         -1.31604361,  2.36018875,  0.56553574,  2.36927989, 10.41812462,\n",
       "         -0.27550511,  0.4074025 ,  0.18689799,  0.53152289, -0.43844372,\n",
       "         -0.05494327, -2.39728314,  1.76544257]),\n",
       "  array([21.64120644, -1.41616956,  0.30307411,  0.37706977, -1.03975861,\n",
       "         -1.11558204,  3.0051404 , -0.81590947,  2.48985533, 10.80908089,\n",
       "         -0.38575305,  0.65338338,  0.52677362,  0.22577477, -0.10853952,\n",
       "         -0.06177905, -2.02491199,  1.2323865 ]),\n",
       "  array([21.64072508, -1.47975825, -0.05328904,  0.49466904, -0.96045467,\n",
       "         -1.92338987,  0.33450553,  1.8613394 ,  1.67404737, 10.90087962,\n",
       "         -0.28030393, -0.04707439,  0.69785439,  0.66742517, -0.15549333,\n",
       "         -0.15716511, -2.22148798,  1.63594543]),\n",
       "  array([ 2.14707279e+01, -1.28790478e+00,  3.50127368e-01,  5.41051252e-01,\n",
       "         -9.86250990e-01, -1.44035041e+00,  6.16050981e-01,  1.87649323e+00,\n",
       "          2.30723741e+00,  1.06527807e+01, -3.44381404e-01,  5.09187423e-01,\n",
       "          8.56368338e-01, -1.60899843e-01, -3.07647950e-01, -2.01915904e-02,\n",
       "         -2.06670512e+00,  1.42013640e+00])],\n",
       " [0.457814240681921,\n",
       "  0.584164609229672,\n",
       "  0.6342577973816789,\n",
       "  0.6273462687610472])"
      ]
     },
     "execution_count": 105,
     "metadata": {},
     "output_type": "execute_result"
    }
   ],
   "source": [
    "weight"
   ]
  },
  {
   "cell_type": "code",
   "execution_count": 104,
   "metadata": {},
   "outputs": [
    {
     "data": {
      "image/png": "[encoded data removed]",
      "text/plain": [
       "<Figure size 432x288 with 1 Axes>"
      ]
     },
     "metadata": {
      "needs_background": "light"
     },
     "output_type": "display_data"
    }
   ],
   "source": [
    "for i in range(4):\n",
    "    plt.plot(np.arange(600, len(loss_trend[i])+1), loss_trend[i][599:])"
   ]
  },
  {
   "cell_type": "code",
   "execution_count": null,
   "metadata": {},
   "outputs": [],
   "source": []
  },
  {
   "cell_type": "code",
   "execution_count": 39,
   "metadata": {},
   "outputs": [],
   "source": [
    "train_X.drop(columns='day', inplace=True)"
   ]
  },
  {
   "cell_type": "code",
   "execution_count": 55,
   "metadata": {},
   "outputs": [
    {
     "name": "stdout",
     "output_type": "stream",
     "text": [
      "[2, 3, 4]\n"
     ]
    }
   ],
   "source": [
    "a = [1, 2, 3, 4]\n",
    "a.remove(1)\n",
    "print(a)"
   ]
  },
  {
   "cell_type": "code",
   "execution_count": null,
   "metadata": {},
   "outputs": [],
   "source": []
  }
 ],
 "metadata": {
  "kernelspec": {
   "display_name": "Python 3",
   "language": "python",
   "name": "python3"
  },
  "language_info": {
   "codemirror_mode": {
    "name": "ipython",
    "version": 3
   },
   "file_extension": ".py",
   "mimetype": "text/x-python",
   "name": "python",
   "nbconvert_exporter": "python",
   "pygments_lexer": "ipython3",
   "version": "3.8.3"
  }
 },
 "nbformat": 4,
 "nbformat_minor": 4
}

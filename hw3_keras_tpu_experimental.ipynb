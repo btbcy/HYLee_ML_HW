{
  "nbformat": 4,
  "nbformat_minor": 0,
  "metadata": {
    "colab": {
      "name": "hw3_keras_tpu_experimental.ipynb",
      "provenance": [],
      "collapsed_sections": [
        "bvA3z30BKSu4",
        "XUJcmfOhefHR"
      ],
      "toc_visible": true,
      "authorship_tag": "ABX9TyPtbf32SS3TGnJE7QVAr4yw",
      "include_colab_link": true
    },
    "kernelspec": {
      "name": "python3",
      "display_name": "Python 3"
    },
    "accelerator": "TPU"
  },
  "cells": [
    {
      "cell_type": "markdown",
      "metadata": {
        "id": "view-in-github",
        "colab_type": "text"
      },
      "source": [
        "<a href=\"https://colab.research.google.com/github/btbcy/HYLee_ML_HW/blob/master/hw3_keras_tpu_experimental.ipynb\" target=\"_parent\"><img src=\"https://colab.research.google.com/assets/colab-badge.svg\" alt=\"Open In Colab\"/></a>"
      ]
    },
    {
      "cell_type": "markdown",
      "metadata": {
        "id": "u8j-X0JJIQCB",
        "colab_type": "text"
      },
      "source": [
        "# google drive"
      ]
    },
    {
      "cell_type": "code",
      "metadata": {
        "id": "EfnnetjVQ1-q",
        "colab_type": "code",
        "colab": {
          "base_uri": "https://localhost:8080/",
          "height": 35
        },
        "outputId": "ceb29981-bf74-42c2-9cef-59d0a6c1df3d"
      },
      "source": [
        "from google.colab import drive\n",
        "drive.mount('/content/gdrive')"
      ],
      "execution_count": null,
      "outputs": [
        {
          "output_type": "stream",
          "text": [
            "Drive already mounted at /content/gdrive; to attempt to forcibly remount, call drive.mount(\"/content/gdrive\", force_remount=True).\n"
          ],
          "name": "stdout"
        }
      ]
    },
    {
      "cell_type": "code",
      "metadata": {
        "id": "lOFGHZpv1K4C",
        "colab_type": "code",
        "colab": {
          "base_uri": "https://localhost:8080/",
          "height": 89
        },
        "outputId": "04e7176e-b28c-405f-e15a-59be6ddd9484"
      },
      "source": [
        "!gdown --id '19CzXudqN58R3D-1G8KeFWk8UDQwlb8is' --output food-11.zip # 下載資料集"
      ],
      "execution_count": 1,
      "outputs": [
        {
          "output_type": "stream",
          "text": [
            "Downloading...\n",
            "From: https://drive.google.com/uc?id=19CzXudqN58R3D-1G8KeFWk8UDQwlb8is\n",
            "To: /content/food-11.zip\n",
            "1.16GB [00:05, 195MB/s]\n"
          ],
          "name": "stdout"
        }
      ]
    },
    {
      "cell_type": "code",
      "metadata": {
        "id": "esLHcApMSRMw",
        "colab_type": "code",
        "colab": {}
      },
      "source": [
        "# import os\n",
        "# os.chdir(\"gdrive/My Drive/Colab Notebooks/Hung-yi Lee HW/HW3_CNN\") #更改路徑\n",
        "# os.getcwd() #查看當前路徑"
      ],
      "execution_count": null,
      "outputs": []
    },
    {
      "cell_type": "markdown",
      "metadata": {
        "id": "xeK2cK0_1vTp",
        "colab_type": "text"
      },
      "source": [
        "# unzip"
      ]
    },
    {
      "cell_type": "code",
      "metadata": {
        "id": "DmFMbWXc1Voy",
        "colab_type": "code",
        "colab": {}
      },
      "source": [
        "!unzip -q food-11.zip"
      ],
      "execution_count": 2,
      "outputs": []
    },
    {
      "cell_type": "code",
      "metadata": {
        "id": "U0xEBW1OYxGQ",
        "colab_type": "code",
        "colab": {}
      },
      "source": [
        "# zip_path = 'gdrive/My Drive/Colab Notebooks/Hung-yi Lee HW/HW3_CNN/food-11.zip'\n",
        "!cp 'gdrive/My Drive/Colab Notebooks/Hung-yi Lee HW/HW3_CNN/food-11.zip' .\n",
        "!unzip -q food-11.zip\n",
        "!rm food-11.zip"
      ],
      "execution_count": null,
      "outputs": []
    },
    {
      "cell_type": "markdown",
      "metadata": {
        "id": "0vtl4vnYSHri",
        "colab_type": "text"
      },
      "source": [
        "# import"
      ]
    },
    {
      "cell_type": "code",
      "metadata": {
        "id": "4eplJQs2SOxl",
        "colab_type": "code",
        "colab": {
          "base_uri": "https://localhost:8080/",
          "height": 53
        },
        "outputId": "6517b7c9-fac6-4cb2-af50-17eb2673a14c"
      },
      "source": [
        "import os\n",
        "import numpy as np\n",
        "import cv2\n",
        "import matplotlib.pyplot as plt\n",
        "# import time\n",
        "\n",
        "import tensorflow as tf\n",
        "from tensorflow import keras\n",
        "from tensorflow.keras import layers\n",
        "\n",
        "print(\"Tensorflow version \" + tf.__version__)\n",
        "AUTO = tf.data.experimental.AUTOTUNE\n",
        "print(\"tf.data.experimental.AUTOTUNE = {}\".format(AUTO))"
      ],
      "execution_count": 46,
      "outputs": [
        {
          "output_type": "stream",
          "text": [
            "Tensorflow version 2.3.0\n",
            "tf.data.experimental.AUTOTUNE = -1\n"
          ],
          "name": "stdout"
        }
      ]
    },
    {
      "cell_type": "markdown",
      "metadata": {
        "id": "8t7SlQa7NW6d",
        "colab_type": "text"
      },
      "source": [
        "# TPU"
      ]
    },
    {
      "cell_type": "code",
      "metadata": {
        "id": "1xWLszyfNO7A",
        "colab_type": "code",
        "colab": {
          "base_uri": "https://localhost:8080/",
          "height": 144
        },
        "outputId": "27f2a21b-033b-4350-bacb-e31d13405afd"
      },
      "source": [
        "# resolver = tf.distribute.cluster_resolver.TPUClusterResolver(tpu='grpc://' + os.environ['COLAB_TPU_ADDR'])\n",
        "resolver = tf.distribute.cluster_resolver.TPUClusterResolver()\n",
        "tf.config.experimental_connect_to_cluster(resolver)\n",
        "tf.tpu.experimental.initialize_tpu_system(resolver)"
      ],
      "execution_count": 5,
      "outputs": [
        {
          "output_type": "stream",
          "text": [
            "INFO:tensorflow:Initializing the TPU system: grpc://10.20.111.250:8470\n"
          ],
          "name": "stdout"
        },
        {
          "output_type": "stream",
          "text": [
            "INFO:tensorflow:Initializing the TPU system: grpc://10.20.111.250:8470\n"
          ],
          "name": "stderr"
        },
        {
          "output_type": "stream",
          "text": [
            "INFO:tensorflow:Clearing out eager caches\n"
          ],
          "name": "stdout"
        },
        {
          "output_type": "stream",
          "text": [
            "INFO:tensorflow:Clearing out eager caches\n"
          ],
          "name": "stderr"
        },
        {
          "output_type": "stream",
          "text": [
            "INFO:tensorflow:Finished initializing TPU system.\n"
          ],
          "name": "stdout"
        },
        {
          "output_type": "stream",
          "text": [
            "INFO:tensorflow:Finished initializing TPU system.\n"
          ],
          "name": "stderr"
        },
        {
          "output_type": "execute_result",
          "data": {
            "text/plain": [
              "<tensorflow.python.tpu.topology.Topology at 0x7f644f7cab70>"
            ]
          },
          "metadata": {
            "tags": []
          },
          "execution_count": 5
        }
      ]
    },
    {
      "cell_type": "markdown",
      "metadata": {
        "id": "fEPxuGktaOTH",
        "colab_type": "text"
      },
      "source": [
        "# read data"
      ]
    },
    {
      "cell_type": "code",
      "metadata": {
        "id": "GBTi3-IYSiFh",
        "colab_type": "code",
        "colab": {}
      },
      "source": [
        "def readfile(path, label):\n",
        "    # label 是一個 boolean variable，代表需不需要回傳 y 值\n",
        "    image_dir = sorted(os.listdir(path))\n",
        "    # x = np.zeros((len(image_dir), 128, 128, 3), dtype=np.uint8)\n",
        "    x = np.zeros((len(image_dir), 128, 128, 3), dtype=np.float32)\n",
        "    y = np.zeros((len(image_dir)), dtype=np.uint8)\n",
        "    for i, file in enumerate(image_dir):\n",
        "        img = cv2.imread(os.path.join(path, file))\n",
        "        x[i, :, :] = cv2.resize(img,(128, 128)) * 1.0 / 255.0\n",
        "        # do normalization on augmentation\n",
        "        # x[i, :, :] = cv2.resize(img,(128, 128))\n",
        "        if label:\n",
        "          # keras.utils.to_categorical(int(file.split(\"_\")[0]), num_classes=11)\n",
        "          y[i] = int(file.split(\"_\")[0])\n",
        "    if label:\n",
        "      return x, y\n",
        "    else:\n",
        "      return x"
      ],
      "execution_count": 6,
      "outputs": []
    },
    {
      "cell_type": "code",
      "metadata": {
        "id": "zCID5PGySpGJ",
        "colab_type": "code",
        "colab": {
          "base_uri": "https://localhost:8080/",
          "height": 89
        },
        "outputId": "959b0a6b-d1a3-4ca2-ccbe-703230cc93f0"
      },
      "source": [
        "# 分別將 training set、validation set、testing set 用 readfile 函式讀進來\n",
        "workspace_dir = './food-11'\n",
        "print(\"Reading data\")\n",
        "train_x, train_y = readfile(os.path.join(workspace_dir, \"training\"), True)\n",
        "print(\"Size of training data = {}\".format(len(train_x)))\n",
        "val_x, val_y = readfile(os.path.join(workspace_dir, \"validation\"), True)\n",
        "print(\"Size of validation data = {}\".format(len(val_x)))\n",
        "test_x = readfile(os.path.join(workspace_dir, \"testing\"), False)\n",
        "print(\"Size of Testing data = {}\".format(len(test_x)))"
      ],
      "execution_count": 7,
      "outputs": [
        {
          "output_type": "stream",
          "text": [
            "Reading data\n",
            "Size of training data = 9866\n",
            "Size of validation data = 3430\n",
            "Size of Testing data = 3347\n"
          ],
          "name": "stdout"
        }
      ]
    },
    {
      "cell_type": "markdown",
      "metadata": {
        "id": "bvA3z30BKSu4",
        "colab_type": "text"
      },
      "source": [
        "## test data"
      ]
    },
    {
      "cell_type": "code",
      "metadata": {
        "id": "-53gkUWFSqt4",
        "colab_type": "code",
        "colab": {
          "base_uri": "https://localhost:8080/",
          "height": 145
        },
        "outputId": "95ff9ec0-277c-446e-bf06-a5a798ded83f"
      },
      "source": [
        "from google.colab.patches import cv2_imshow\n",
        "cv2_imshow(train_x[1]*255)"
      ],
      "execution_count": null,
      "outputs": [
        {
          "output_type": "display_data",
          "data": {
            "image/png": "[encoded data removed]",
            "text/plain": [
              "<PIL.Image.Image image mode=RGB size=128x128 at 0x7EFCDA87A860>"
            ]
          },
          "metadata": {
            "tags": []
          }
        }
      ]
    },
    {
      "cell_type": "code",
      "metadata": {
        "id": "bCQfMzTAHc79",
        "colab_type": "code",
        "colab": {
          "base_uri": "https://localhost:8080/",
          "height": 850
        },
        "outputId": "2f9a6993-297f-4993-f7b9-6e71d7e95559"
      },
      "source": [
        "train_x[1]"
      ],
      "execution_count": null,
      "outputs": [
        {
          "output_type": "execute_result",
          "data": {
            "text/plain": [
              "array([[[0.03137255, 0.01568628, 0.01960784],\n",
              "        [0.02352941, 0.01176471, 0.01176471],\n",
              "        [0.01568628, 0.00784314, 0.00784314],\n",
              "        ...,\n",
              "        [0.03921569, 0.01176471, 0.00784314],\n",
              "        [0.        , 0.00392157, 0.        ],\n",
              "        [0.01960784, 0.        , 0.00784314]],\n",
              "\n",
              "       [[0.03137255, 0.05490196, 0.03529412],\n",
              "        [0.5058824 , 0.54901963, 0.5137255 ],\n",
              "        [0.58431375, 0.6313726 , 0.5921569 ],\n",
              "        ...,\n",
              "        [0.02745098, 0.03529412, 0.04313726],\n",
              "        [0.        , 0.00784314, 0.00784314],\n",
              "        [0.01960784, 0.        , 0.00392157]],\n",
              "\n",
              "       [[0.61960787, 0.6901961 , 0.6392157 ],\n",
              "        [0.6117647 , 0.6862745 , 0.63529414],\n",
              "        [0.60784316, 0.6901961 , 0.6313726 ],\n",
              "        ...,\n",
              "        [0.35686275, 0.34117648, 0.3529412 ],\n",
              "        [0.02352941, 0.00784314, 0.01176471],\n",
              "        [0.01176471, 0.        , 0.        ]],\n",
              "\n",
              "       ...,\n",
              "\n",
              "       [[0.11372549, 0.01176471, 0.3764706 ],\n",
              "        [0.11372549, 0.01960784, 0.36078432],\n",
              "        [0.11764706, 0.01960784, 0.3647059 ],\n",
              "        ...,\n",
              "        [0.6156863 , 0.7607843 , 0.7647059 ],\n",
              "        [0.03921569, 0.07058824, 0.07843138],\n",
              "        [0.01176471, 0.        , 0.00392157]],\n",
              "\n",
              "       [[0.13333334, 0.02352941, 0.4392157 ],\n",
              "        [0.12156863, 0.00784314, 0.41568628],\n",
              "        [0.12941177, 0.02352941, 0.40392157],\n",
              "        ...,\n",
              "        [0.6509804 , 0.75686276, 0.7647059 ],\n",
              "        [0.00392157, 0.01568628, 0.01960784],\n",
              "        [0.00784314, 0.00392157, 0.00392157]],\n",
              "\n",
              "       [[0.01960784, 0.00392157, 0.13333334],\n",
              "        [0.11764706, 0.05098039, 0.33333334],\n",
              "        [0.1254902 , 0.02745098, 0.38039216],\n",
              "        ...,\n",
              "        [0.10588235, 0.14117648, 0.15294118],\n",
              "        [0.03137255, 0.01568628, 0.01960784],\n",
              "        [0.01176471, 0.00784314, 0.00392157]]], dtype=float32)"
            ]
          },
          "metadata": {
            "tags": []
          },
          "execution_count": 14
        }
      ]
    },
    {
      "cell_type": "markdown",
      "metadata": {
        "id": "3KrUqa_GKqFZ",
        "colab_type": "text"
      },
      "source": [
        "## preprocessing"
      ]
    },
    {
      "cell_type": "code",
      "metadata": {
        "id": "ov44SJVWE1vc",
        "colab_type": "code",
        "colab": {}
      },
      "source": [
        "# # Normalize pixel values to be between 0 and 1\n",
        "# train_x = train_x / 255\n",
        "# val_x = val_x / 255\n",
        "# test_x = test_x / 255\n",
        "\n",
        "# Converts a class vector (integers) to binary class matrix.\n",
        "train_y = keras.utils.to_categorical(train_y, num_classes=11)\n",
        "val_y = keras.utils.to_categorical(val_y, num_classes=11)\n",
        "\n",
        "index = np.arange(len(train_x))\n",
        "np.random.shuffle(index)\n",
        "train_x = train_x[index]\n",
        "train_y = train_y[index]"
      ],
      "execution_count": 8,
      "outputs": []
    },
    {
      "cell_type": "markdown",
      "metadata": {
        "id": "xy7t4be8afD3",
        "colab_type": "text"
      },
      "source": [
        "# augmentation"
      ]
    },
    {
      "cell_type": "code",
      "metadata": {
        "id": "iX7thyS5apl4",
        "colab_type": "code",
        "colab": {}
      },
      "source": [
        "# train_datagen = keras.preprocessing.image.ImageDataGenerator(\n",
        "#     # featurewise_center=True,\n",
        "#     # featurewise_std_normalization=True,\n",
        "#     rotation_range=15,\n",
        "#     # width_shift_range=0.2,\n",
        "#     # height_shift_range=0.2,\n",
        "#     # shear_range=0.2,\n",
        "#     # zoom_range=0.2,\n",
        "#     horizontal_flip=True,\n",
        "# )\n",
        "# # test_datagen = keras.preprocessing.image.ImageDataGenerator(\n",
        "# #     rescale=1./255\n",
        "# # )\n",
        "\n",
        "# # compute quantities required for featurewise normalization\n",
        "# # (std, mean, and principal components if ZCA whitening is applied)\n",
        "# # train_datagen.fit(train_x)"
      ],
      "execution_count": null,
      "outputs": []
    },
    {
      "cell_type": "code",
      "metadata": {
        "id": "T5TyNmauXKQc",
        "colab_type": "code",
        "colab": {}
      },
      "source": [
        "data_augmentation = tf.keras.Sequential([\n",
        "  layers.experimental.preprocessing.RandomFlip(\"horizontal\", input_shape=(128, 128, 3)),\n",
        "  layers.experimental.preprocessing.RandomRotation(0.05),\n",
        "  # layers.experimental.preprocessing.RandomZoom(0.1, input_shape=(128, 128, 3)),\n",
        "])"
      ],
      "execution_count": 56,
      "outputs": []
    },
    {
      "cell_type": "markdown",
      "metadata": {
        "id": "TLQuOZ5-aSpA",
        "colab_type": "text"
      },
      "source": [
        "# model"
      ]
    },
    {
      "cell_type": "code",
      "metadata": {
        "id": "xAgUGT__Gvl6",
        "colab_type": "code",
        "colab": {}
      },
      "source": [
        "# dropout\n",
        "# def create_model():\n",
        "#   return tf.keras.Sequential([\n",
        "#     # data_augmentation,\n",
        "\n",
        "#     # layers.Conv2D(filters=64, kernel_size=(3, 3), padding='same', activation='relu'),\n",
        "#     layers.Conv2D(filters=64, kernel_size=(3, 3), padding='same', activation='relu', input_shape=(128, 128, 3)),\n",
        "#     layers.MaxPool2D(pool_size=(2, 2)),\n",
        "#     layers.Dropout(0.2),\n",
        "\n",
        "#     layers.Conv2D(filters=128, kernel_size=(3, 3), padding='same', activation='relu'),\n",
        "#     layers.MaxPool2D(pool_size=(2, 2)),\n",
        "#     layers.Dropout(0.2),\n",
        "\n",
        "#     layers.Conv2D(filters=256, kernel_size=(3, 3), padding='same', activation='relu'),\n",
        "#     layers.MaxPool2D(pool_size=(2, 2)),\n",
        "#     layers.Dropout(0.3),\n",
        "\n",
        "#     layers.Conv2D(filters=512, kernel_size=(3, 3), padding='same', activation='relu'),\n",
        "#     layers.MaxPool2D(pool_size=(2, 2)),\n",
        "#     layers.Dropout(0.3),\n",
        "\n",
        "#     layers.Conv2D(filters=512, kernel_size=(3, 3), padding='same', activation='relu'),\n",
        "#     layers.MaxPool2D(pool_size=(2, 2)),\n",
        "#     layers.Dropout(0.3),\n",
        "\n",
        "#     # layers.Conv2D(filters=128, kernel_size=(3, 3), padding='same', activation='relu'),\n",
        "#     # layers.MaxPool2D(pool_size=(2, 2)),\n",
        "#     layers.Flatten(),\n",
        "#     # layers.Dense(units=512, activation='relu', kernel_regularizer=keras.regularizers.l2(0.001)),\n",
        "#     layers.Dense(units=1024, activation='relu'),\n",
        "#     layers.Dropout(0.4),\n",
        "#     layers.Dense(units=512, activation='relu'),\n",
        "#     layers.Dropout(0.4),\n",
        "#     layers.Dense(units=11, activation='softmax')\n",
        "      \n",
        "#   ])\n",
        "\n",
        "# batchnormalization\n",
        "def create_model():\n",
        "  return tf.keras.Sequential([\n",
        "  # layers.Conv2D(filters=64, kernel_size=(3, 3), activation='relu', input_shape=(128, 128, 3)),\n",
        "  layers.Conv2D(filters=64, kernel_size=(3, 3), padding='same', activation=None, input_shape=(128, 128, 3)),\n",
        "  layers.BatchNormalization(),\n",
        "  layers.Activation('relu'),\n",
        "  layers.MaxPool2D(pool_size=(2, 2)),\n",
        "\n",
        "  layers.Conv2D(filters=128, kernel_size=(3, 3), padding='same', activation=None),\n",
        "  layers.BatchNormalization(),\n",
        "  layers.Activation('relu'),\n",
        "  layers.MaxPool2D(pool_size=(2, 2)),\n",
        "\n",
        "  layers.Conv2D(filters=256, kernel_size=(3, 3), padding='same', activation=None),\n",
        "  layers.BatchNormalization(),\n",
        "  layers.Activation('relu'),\n",
        "  layers.MaxPool2D(pool_size=(2, 2)),\n",
        "\n",
        "  layers.Conv2D(filters=512, kernel_size=(3, 3), padding='same', activation=None),\n",
        "  layers.BatchNormalization(),\n",
        "  layers.Activation('relu'),\n",
        "  layers.MaxPool2D(pool_size=(2, 2)),\n",
        "\n",
        "  layers.Conv2D(filters=512, kernel_size=(3, 3), padding='same', activation=None),\n",
        "  layers.BatchNormalization(),\n",
        "  layers.Activation('relu'),\n",
        "  layers.MaxPool2D(pool_size=(2, 2)),\n",
        "\n",
        "  # layers.Conv2D(filters=128, kernel_size=(3, 3), padding='same', activation='relu'),\n",
        "  # layers.MaxPool2D(pool_size=(2, 2)),\n",
        "  layers.Flatten(),\n",
        "  # layers.Dense(units=512, activation='relu', kernel_regularizer=keras.regularizers.l2(0.001)),\n",
        "  layers.Dense(units=1024, activation='relu'),\n",
        "  layers.Dense(units=512, activation='relu'),\n",
        "  layers.Dense(units=11, activation='softmax')\n",
        "  ])"
      ],
      "execution_count": 60,
      "outputs": []
    },
    {
      "cell_type": "markdown",
      "metadata": {
        "id": "rZeqbwyhe1a4",
        "colab_type": "text"
      },
      "source": [
        "# dataset"
      ]
    },
    {
      "cell_type": "code",
      "metadata": {
        "id": "NvkH2hfg0vM2",
        "colab_type": "code",
        "colab": {}
      },
      "source": [
        "batch_size = 128\n",
        "\n",
        "val_dataset = (\n",
        "  tf.data.Dataset.from_tensor_slices((val_x,val_y))\n",
        "  .batch(batch_size)\n",
        ")\n",
        "# val_dataset = val_dataset.batch(batch_size)\n",
        "test_dataset = tf.data.Dataset.from_tensor_slices(test_x)"
      ],
      "execution_count": 11,
      "outputs": []
    },
    {
      "cell_type": "code",
      "metadata": {
        "id": "BBz0vm-AEIWF",
        "colab_type": "code",
        "colab": {}
      },
      "source": [
        "train_dataset = (\n",
        "  tf.data.Dataset.from_tensor_slices((train_x, train_y))\n",
        "  .shuffle(len(train_x))\n",
        "  .batch(batch_size)\n",
        ")\n",
        "# train_dataset = tf.data.Dataset.from_tensor_slices((train_x, train_y))\n",
        "# train_dataset = train_dataset.shuffle(len(train_x))\n",
        "# train_dataset = train_dataset.shuffle(tf.data.experimental.AUTOTUNE)\n",
        "# train_dataset = train_dataset.batch(batch_size)\n",
        "\n",
        "# def get_train_dataset(batch_size):\n",
        "#   train_dataset = tf.data.Dataset.from_tensor_slices((train_x,train_y))\n",
        "#   # Only shuffle and repeat the dataset in training. The advantage to have a\n",
        "#   # infinite dataset for training is to avoid the potential last partial batch\n",
        "#   # in each epoch, so users don't need to think about scaling the gradients\n",
        "#   # based on the actual batch size.\n",
        "#   train_dataset = (\n",
        "#     train_dataset.shuffle(len(train_x))\n",
        "#     .batch(batch_size)\n",
        "#     .map(lambda x, y: (data_augmentation(x), y), num_parallel_calls=AUTOTUNE)\n",
        "#     .prefetch(tf.data.experimental.AUTOTUNE)\n",
        "#   )\n",
        "  \n",
        "#   # train_dataset = train_dataset.repeat()\n",
        "#   # train_dataset = train_dataset.batch(batch_size)\n",
        "#   return train_dataset"
      ],
      "execution_count": 12,
      "outputs": []
    },
    {
      "cell_type": "code",
      "metadata": {
        "id": "uV5XsJI_06Ej",
        "colab_type": "code",
        "colab": {}
      },
      "source": [
        "train_aug_dataset = (train_dataset.map(lambda x, y: (data_augmentation(x), y),\n",
        "    num_parallel_calls=tf.data.experimental.AUTOTUNE\n",
        "  )\n",
        "  .prefetch(tf.data.experimental.AUTOTUNE)\n",
        ")"
      ],
      "execution_count": 61,
      "outputs": []
    },
    {
      "cell_type": "markdown",
      "metadata": {
        "id": "XUJcmfOhefHR",
        "colab_type": "text"
      },
      "source": [
        "## test dataset shuffle buffer_szie"
      ]
    },
    {
      "cell_type": "code",
      "metadata": {
        "id": "sXa2SBLMa0T0",
        "colab_type": "code",
        "colab": {}
      },
      "source": [
        "dataset = tf.data.Dataset.from_tensor_slices(np.array([1, 2, 3, 4, 5, 6, 7]))\n",
        "dataset = dataset.shuffle(7)\n",
        "dataset = dataset.repeat(3)\n",
        "dataset = dataset.batch(3)\n",
        "for ele in dataset:\n",
        "  print(ele)"
      ],
      "execution_count": null,
      "outputs": []
    },
    {
      "cell_type": "markdown",
      "metadata": {
        "id": "5-L0KfhuaVV-",
        "colab_type": "text"
      },
      "source": [
        "# train"
      ]
    },
    {
      "cell_type": "code",
      "metadata": {
        "id": "rS8RED0ZlTes",
        "colab_type": "code",
        "colab": {
          "base_uri": "https://localhost:8080/",
          "height": 1000
        },
        "outputId": "a5767b10-5e0d-431a-f492-8f7836346986"
      },
      "source": [
        "# strategy = tf.distribute.experimental.TPUStrategy(resolver)\n",
        "strategy = tf.distribute.TPUStrategy(resolver)\n",
        "# strategy = tf.distribute.MirroredStrategy(resolver)\n",
        "with strategy.scope():\n",
        "  model = create_model()\n",
        "  model.compile(\n",
        "    optimizer=keras.optimizers.Adam(),\n",
        "    loss='categorical_crossentropy',\n",
        "    metrics=['accuracy']\n",
        "  )\n",
        "\n",
        "model.summary()"
      ],
      "execution_count": 62,
      "outputs": [
        {
          "output_type": "stream",
          "text": [
            "INFO:tensorflow:Found TPU system:\n"
          ],
          "name": "stdout"
        },
        {
          "output_type": "stream",
          "text": [
            "INFO:tensorflow:Found TPU system:\n"
          ],
          "name": "stderr"
        },
        {
          "output_type": "stream",
          "text": [
            "INFO:tensorflow:*** Num TPU Cores: 8\n"
          ],
          "name": "stdout"
        },
        {
          "output_type": "stream",
          "text": [
            "INFO:tensorflow:*** Num TPU Cores: 8\n"
          ],
          "name": "stderr"
        },
        {
          "output_type": "stream",
          "text": [
            "INFO:tensorflow:*** Num TPU Workers: 1\n"
          ],
          "name": "stdout"
        },
        {
          "output_type": "stream",
          "text": [
            "INFO:tensorflow:*** Num TPU Workers: 1\n"
          ],
          "name": "stderr"
        },
        {
          "output_type": "stream",
          "text": [
            "INFO:tensorflow:*** Num TPU Cores Per Worker: 8\n"
          ],
          "name": "stdout"
        },
        {
          "output_type": "stream",
          "text": [
            "INFO:tensorflow:*** Num TPU Cores Per Worker: 8\n"
          ],
          "name": "stderr"
        },
        {
          "output_type": "stream",
          "text": [
            "INFO:tensorflow:*** Available Device: _DeviceAttributes(/job:localhost/replica:0/task:0/device:CPU:0, CPU, 0, 0)\n"
          ],
          "name": "stdout"
        },
        {
          "output_type": "stream",
          "text": [
            "INFO:tensorflow:*** Available Device: _DeviceAttributes(/job:localhost/replica:0/task:0/device:CPU:0, CPU, 0, 0)\n"
          ],
          "name": "stderr"
        },
        {
          "output_type": "stream",
          "text": [
            "INFO:tensorflow:*** Available Device: _DeviceAttributes(/job:localhost/replica:0/task:0/device:XLA_CPU:0, XLA_CPU, 0, 0)\n"
          ],
          "name": "stdout"
        },
        {
          "output_type": "stream",
          "text": [
            "INFO:tensorflow:*** Available Device: _DeviceAttributes(/job:localhost/replica:0/task:0/device:XLA_CPU:0, XLA_CPU, 0, 0)\n"
          ],
          "name": "stderr"
        },
        {
          "output_type": "stream",
          "text": [
            "INFO:tensorflow:*** Available Device: _DeviceAttributes(/job:worker/replica:0/task:0/device:CPU:0, CPU, 0, 0)\n"
          ],
          "name": "stdout"
        },
        {
          "output_type": "stream",
          "text": [
            "INFO:tensorflow:*** Available Device: _DeviceAttributes(/job:worker/replica:0/task:0/device:CPU:0, CPU, 0, 0)\n"
          ],
          "name": "stderr"
        },
        {
          "output_type": "stream",
          "text": [
            "INFO:tensorflow:*** Available Device: _DeviceAttributes(/job:worker/replica:0/task:0/device:TPU:0, TPU, 0, 0)\n"
          ],
          "name": "stdout"
        },
        {
          "output_type": "stream",
          "text": [
            "INFO:tensorflow:*** Available Device: _DeviceAttributes(/job:worker/replica:0/task:0/device:TPU:0, TPU, 0, 0)\n"
          ],
          "name": "stderr"
        },
        {
          "output_type": "stream",
          "text": [
            "INFO:tensorflow:*** Available Device: _DeviceAttributes(/job:worker/replica:0/task:0/device:TPU:1, TPU, 0, 0)\n"
          ],
          "name": "stdout"
        },
        {
          "output_type": "stream",
          "text": [
            "INFO:tensorflow:*** Available Device: _DeviceAttributes(/job:worker/replica:0/task:0/device:TPU:1, TPU, 0, 0)\n"
          ],
          "name": "stderr"
        },
        {
          "output_type": "stream",
          "text": [
            "INFO:tensorflow:*** Available Device: _DeviceAttributes(/job:worker/replica:0/task:0/device:TPU:2, TPU, 0, 0)\n"
          ],
          "name": "stdout"
        },
        {
          "output_type": "stream",
          "text": [
            "INFO:tensorflow:*** Available Device: _DeviceAttributes(/job:worker/replica:0/task:0/device:TPU:2, TPU, 0, 0)\n"
          ],
          "name": "stderr"
        },
        {
          "output_type": "stream",
          "text": [
            "INFO:tensorflow:*** Available Device: _DeviceAttributes(/job:worker/replica:0/task:0/device:TPU:3, TPU, 0, 0)\n"
          ],
          "name": "stdout"
        },
        {
          "output_type": "stream",
          "text": [
            "INFO:tensorflow:*** Available Device: _DeviceAttributes(/job:worker/replica:0/task:0/device:TPU:3, TPU, 0, 0)\n"
          ],
          "name": "stderr"
        },
        {
          "output_type": "stream",
          "text": [
            "INFO:tensorflow:*** Available Device: _DeviceAttributes(/job:worker/replica:0/task:0/device:TPU:4, TPU, 0, 0)\n"
          ],
          "name": "stdout"
        },
        {
          "output_type": "stream",
          "text": [
            "INFO:tensorflow:*** Available Device: _DeviceAttributes(/job:worker/replica:0/task:0/device:TPU:4, TPU, 0, 0)\n"
          ],
          "name": "stderr"
        },
        {
          "output_type": "stream",
          "text": [
            "INFO:tensorflow:*** Available Device: _DeviceAttributes(/job:worker/replica:0/task:0/device:TPU:5, TPU, 0, 0)\n"
          ],
          "name": "stdout"
        },
        {
          "output_type": "stream",
          "text": [
            "INFO:tensorflow:*** Available Device: _DeviceAttributes(/job:worker/replica:0/task:0/device:TPU:5, TPU, 0, 0)\n"
          ],
          "name": "stderr"
        },
        {
          "output_type": "stream",
          "text": [
            "INFO:tensorflow:*** Available Device: _DeviceAttributes(/job:worker/replica:0/task:0/device:TPU:6, TPU, 0, 0)\n"
          ],
          "name": "stdout"
        },
        {
          "output_type": "stream",
          "text": [
            "INFO:tensorflow:*** Available Device: _DeviceAttributes(/job:worker/replica:0/task:0/device:TPU:6, TPU, 0, 0)\n"
          ],
          "name": "stderr"
        },
        {
          "output_type": "stream",
          "text": [
            "INFO:tensorflow:*** Available Device: _DeviceAttributes(/job:worker/replica:0/task:0/device:TPU:7, TPU, 0, 0)\n"
          ],
          "name": "stdout"
        },
        {
          "output_type": "stream",
          "text": [
            "INFO:tensorflow:*** Available Device: _DeviceAttributes(/job:worker/replica:0/task:0/device:TPU:7, TPU, 0, 0)\n"
          ],
          "name": "stderr"
        },
        {
          "output_type": "stream",
          "text": [
            "INFO:tensorflow:*** Available Device: _DeviceAttributes(/job:worker/replica:0/task:0/device:TPU_SYSTEM:0, TPU_SYSTEM, 0, 0)\n"
          ],
          "name": "stdout"
        },
        {
          "output_type": "stream",
          "text": [
            "INFO:tensorflow:*** Available Device: _DeviceAttributes(/job:worker/replica:0/task:0/device:TPU_SYSTEM:0, TPU_SYSTEM, 0, 0)\n"
          ],
          "name": "stderr"
        },
        {
          "output_type": "stream",
          "text": [
            "INFO:tensorflow:*** Available Device: _DeviceAttributes(/job:worker/replica:0/task:0/device:XLA_CPU:0, XLA_CPU, 0, 0)\n"
          ],
          "name": "stdout"
        },
        {
          "output_type": "stream",
          "text": [
            "INFO:tensorflow:*** Available Device: _DeviceAttributes(/job:worker/replica:0/task:0/device:XLA_CPU:0, XLA_CPU, 0, 0)\n"
          ],
          "name": "stderr"
        },
        {
          "output_type": "stream",
          "text": [
            "Model: \"sequential_11\"\n",
            "_________________________________________________________________\n",
            "Layer (type)                 Output Shape              Param #   \n",
            "=================================================================\n",
            "conv2d_43 (Conv2D)           (None, 128, 128, 64)      1792      \n",
            "_________________________________________________________________\n",
            "batch_normalization (BatchNo (None, 128, 128, 64)      256       \n",
            "_________________________________________________________________\n",
            "activation (Activation)      (None, 128, 128, 64)      0         \n",
            "_________________________________________________________________\n",
            "max_pooling2d_43 (MaxPooling (None, 64, 64, 64)        0         \n",
            "_________________________________________________________________\n",
            "conv2d_44 (Conv2D)           (None, 64, 64, 128)       73856     \n",
            "_________________________________________________________________\n",
            "batch_normalization_1 (Batch (None, 64, 64, 128)       512       \n",
            "_________________________________________________________________\n",
            "activation_1 (Activation)    (None, 64, 64, 128)       0         \n",
            "_________________________________________________________________\n",
            "max_pooling2d_44 (MaxPooling (None, 32, 32, 128)       0         \n",
            "_________________________________________________________________\n",
            "conv2d_45 (Conv2D)           (None, 32, 32, 256)       295168    \n",
            "_________________________________________________________________\n",
            "batch_normalization_2 (Batch (None, 32, 32, 256)       1024      \n",
            "_________________________________________________________________\n",
            "activation_2 (Activation)    (None, 32, 32, 256)       0         \n",
            "_________________________________________________________________\n",
            "max_pooling2d_45 (MaxPooling (None, 16, 16, 256)       0         \n",
            "_________________________________________________________________\n",
            "conv2d_46 (Conv2D)           (None, 16, 16, 512)       1180160   \n",
            "_________________________________________________________________\n",
            "batch_normalization_3 (Batch (None, 16, 16, 512)       2048      \n",
            "_________________________________________________________________\n",
            "activation_3 (Activation)    (None, 16, 16, 512)       0         \n",
            "_________________________________________________________________\n",
            "max_pooling2d_46 (MaxPooling (None, 8, 8, 512)         0         \n",
            "_________________________________________________________________\n",
            "conv2d_47 (Conv2D)           (None, 8, 8, 512)         2359808   \n",
            "_________________________________________________________________\n",
            "batch_normalization_4 (Batch (None, 8, 8, 512)         2048      \n",
            "_________________________________________________________________\n",
            "activation_4 (Activation)    (None, 8, 8, 512)         0         \n",
            "_________________________________________________________________\n",
            "max_pooling2d_47 (MaxPooling (None, 4, 4, 512)         0         \n",
            "_________________________________________________________________\n",
            "flatten_9 (Flatten)          (None, 8192)              0         \n",
            "_________________________________________________________________\n",
            "dense_27 (Dense)             (None, 1024)              8389632   \n",
            "_________________________________________________________________\n",
            "dense_28 (Dense)             (None, 512)               524800    \n",
            "_________________________________________________________________\n",
            "dense_29 (Dense)             (None, 11)                5643      \n",
            "=================================================================\n",
            "Total params: 12,836,747\n",
            "Trainable params: 12,833,803\n",
            "Non-trainable params: 2,944\n",
            "_________________________________________________________________\n"
          ],
          "name": "stdout"
        }
      ]
    },
    {
      "cell_type": "code",
      "metadata": {
        "id": "5D8NRdtePd9-",
        "colab_type": "code",
        "colab": {
          "base_uri": "https://localhost:8080/",
          "height": 1000
        },
        "outputId": "9f307ca0-7b4b-47d1-be90-14e1a4efa277"
      },
      "source": [
        "epochs = 30\n",
        "\n",
        "# train_iterator = train_datagen.flow(train_x, train_y, batch_size=batch_size)\n",
        "# train_dataset = get_train_dataset(batch_size)\n",
        "history = model.fit(train_aug_dataset, batch_size=batch_size, epochs=epochs, validation_data=val_dataset)\n",
        "# history = model.fit(train_dataset, batch_size=batch_size, epochs=epochs)\n",
        "# history = model.fit(train_x, train_y, batch_size=batch_size, epochs=epochs, validation_split=0.3)\n",
        "\n",
        "# With TensorFlow 2.2+ we now use .fit instead of .fit_generator \n",
        "# which works the exact same way under the hood to accommodate data augmentation \n",
        "# if the first argument provided is a Python generator object.  \n",
        "# history = model.fit(train_dataset,\n",
        "#     steps_per_epoch=len(train_x)//batch_size, \n",
        "#     # steps_per_epoch=len(train_iterator),\n",
        "#     epochs=epochs,\n",
        "#     # verbose=2,\n",
        "#     # validation_data=test_datagen.flow(val_x, val_y, batch_size=batch_size)\n",
        "#     # validation_data=val_dataset\n",
        "# )\n"
      ],
      "execution_count": 63,
      "outputs": [
        {
          "output_type": "stream",
          "text": [
            "Epoch 1/30\n",
            " 2/78 [..............................] - ETA: 4:07 - loss: 14.8535 - accuracy: 0.1133WARNING:tensorflow:Callbacks method `on_train_batch_end` is slow compared to the batch time (batch time: 0.0024s vs `on_train_batch_end` time: 0.0494s). Check your callbacks.\n"
          ],
          "name": "stdout"
        },
        {
          "output_type": "stream",
          "text": [
            "WARNING:tensorflow:Callbacks method `on_train_batch_end` is slow compared to the batch time (batch time: 0.0024s vs `on_train_batch_end` time: 0.0494s). Check your callbacks.\n"
          ],
          "name": "stderr"
        },
        {
          "output_type": "stream",
          "text": [
            "78/78 [==============================] - ETA: 0s - loss: 4.2238 - accuracy: 0.1695WARNING:tensorflow:Callbacks method `on_test_batch_end` is slow compared to the batch time (batch time: 0.0019s vs `on_test_batch_end` time: 0.0206s). Check your callbacks.\n"
          ],
          "name": "stdout"
        },
        {
          "output_type": "stream",
          "text": [
            "WARNING:tensorflow:Callbacks method `on_test_batch_end` is slow compared to the batch time (batch time: 0.0019s vs `on_test_batch_end` time: 0.0206s). Check your callbacks.\n"
          ],
          "name": "stderr"
        },
        {
          "output_type": "stream",
          "text": [
            "\b\b\b\b\b\b\b\b\b\b\b\b\b\b\b\b\b\b\b\b\b\b\b\b\b\b\b\b\b\b\b\b\b\b\b\b\b\b\b\b\b\b\b\b\b\b\b\b\b\b\b\b\b\b\b\b\b\b\b\b\b\b\b\b\b\b\b\b\b\b\b\b\b\b\b\b\b\b\b\b\b\b\r78/78 [==============================] - 21s 267ms/step - loss: 4.2238 - accuracy: 0.1695 - val_loss: 2.3228 - val_accuracy: 0.1458\n",
            "Epoch 2/30\n",
            "78/78 [==============================] - 6s 78ms/step - loss: 2.0553 - accuracy: 0.2752 - val_loss: 2.8972 - val_accuracy: 0.0420\n",
            "Epoch 3/30\n",
            "78/78 [==============================] - 7s 85ms/step - loss: 1.9524 - accuracy: 0.3125 - val_loss: 3.0014 - val_accuracy: 0.1458\n",
            "Epoch 4/30\n",
            "78/78 [==============================] - 6s 82ms/step - loss: 1.8405 - accuracy: 0.3531 - val_loss: 4.1330 - val_accuracy: 0.1458\n",
            "Epoch 5/30\n",
            "78/78 [==============================] - 6s 82ms/step - loss: 1.7327 - accuracy: 0.4006 - val_loss: 2.6977 - val_accuracy: 0.2079\n",
            "Epoch 6/30\n",
            "78/78 [==============================] - 6s 82ms/step - loss: 1.6452 - accuracy: 0.4267 - val_loss: 2.2144 - val_accuracy: 0.2770\n",
            "Epoch 7/30\n",
            "78/78 [==============================] - 6s 82ms/step - loss: 1.5967 - accuracy: 0.4457 - val_loss: 2.4577 - val_accuracy: 0.2907\n",
            "Epoch 8/30\n",
            "78/78 [==============================] - 6s 82ms/step - loss: 1.5258 - accuracy: 0.4653 - val_loss: 2.1316 - val_accuracy: 0.3408\n",
            "Epoch 9/30\n",
            "78/78 [==============================] - 7s 85ms/step - loss: 1.4406 - accuracy: 0.5017 - val_loss: 1.8930 - val_accuracy: 0.4192\n",
            "Epoch 10/30\n",
            "78/78 [==============================] - 6s 83ms/step - loss: 1.3746 - accuracy: 0.5222 - val_loss: 1.8538 - val_accuracy: 0.4012\n",
            "Epoch 11/30\n",
            "78/78 [==============================] - 7s 84ms/step - loss: 1.3310 - accuracy: 0.5407 - val_loss: 2.3049 - val_accuracy: 0.3513\n",
            "Epoch 12/30\n",
            "78/78 [==============================] - 7s 84ms/step - loss: 1.2699 - accuracy: 0.5573 - val_loss: 1.6780 - val_accuracy: 0.4615\n",
            "Epoch 13/30\n",
            "78/78 [==============================] - 7s 90ms/step - loss: 1.1947 - accuracy: 0.5880 - val_loss: 2.4949 - val_accuracy: 0.3397\n",
            "Epoch 14/30\n",
            "78/78 [==============================] - 7s 89ms/step - loss: 1.1221 - accuracy: 0.6119 - val_loss: 1.7943 - val_accuracy: 0.4382\n",
            "Epoch 15/30\n",
            "78/78 [==============================] - 7s 88ms/step - loss: 1.0841 - accuracy: 0.6276 - val_loss: 1.9179 - val_accuracy: 0.4429\n",
            "Epoch 16/30\n",
            "78/78 [==============================] - 7s 87ms/step - loss: 1.0605 - accuracy: 0.6274 - val_loss: 2.6735 - val_accuracy: 0.3303\n",
            "Epoch 17/30\n",
            "78/78 [==============================] - 7s 84ms/step - loss: 1.0075 - accuracy: 0.6519 - val_loss: 1.6379 - val_accuracy: 0.5140\n",
            "Epoch 18/30\n",
            "78/78 [==============================] - 7s 84ms/step - loss: 0.9640 - accuracy: 0.6649 - val_loss: 2.9621 - val_accuracy: 0.3924\n",
            "Epoch 19/30\n",
            "78/78 [==============================] - 7s 84ms/step - loss: 0.9205 - accuracy: 0.6827 - val_loss: 1.5906 - val_accuracy: 0.5239\n",
            "Epoch 20/30\n",
            "78/78 [==============================] - 7s 88ms/step - loss: 0.8804 - accuracy: 0.6997 - val_loss: 2.0597 - val_accuracy: 0.4758\n",
            "Epoch 21/30\n",
            "78/78 [==============================] - 6s 83ms/step - loss: 0.8483 - accuracy: 0.7076 - val_loss: 2.6334 - val_accuracy: 0.4035\n",
            "Epoch 22/30\n",
            "78/78 [==============================] - 7s 93ms/step - loss: 0.8013 - accuracy: 0.7217 - val_loss: 1.2813 - val_accuracy: 0.5983\n",
            "Epoch 23/30\n",
            "78/78 [==============================] - 6s 83ms/step - loss: 0.7524 - accuracy: 0.7396 - val_loss: 1.9000 - val_accuracy: 0.5146\n",
            "Epoch 24/30\n",
            "78/78 [==============================] - 6s 82ms/step - loss: 0.7095 - accuracy: 0.7512 - val_loss: 1.4806 - val_accuracy: 0.5501\n",
            "Epoch 25/30\n",
            "78/78 [==============================] - 6s 83ms/step - loss: 0.7167 - accuracy: 0.7529 - val_loss: 1.7246 - val_accuracy: 0.5163\n",
            "Epoch 26/30\n",
            "78/78 [==============================] - 6s 82ms/step - loss: 0.6860 - accuracy: 0.7631 - val_loss: 1.6129 - val_accuracy: 0.5609\n",
            "Epoch 27/30\n",
            "78/78 [==============================] - 7s 86ms/step - loss: 0.6118 - accuracy: 0.7899 - val_loss: 1.9322 - val_accuracy: 0.5125\n",
            "Epoch 28/30\n",
            "78/78 [==============================] - 7s 85ms/step - loss: 0.6111 - accuracy: 0.7856 - val_loss: 1.4931 - val_accuracy: 0.6067\n",
            "Epoch 29/30\n",
            "78/78 [==============================] - 7s 85ms/step - loss: 0.6009 - accuracy: 0.7912 - val_loss: 1.8778 - val_accuracy: 0.5283\n",
            "Epoch 30/30\n",
            "78/78 [==============================] - 6s 83ms/step - loss: 0.5582 - accuracy: 0.8065 - val_loss: 1.4748 - val_accuracy: 0.5933\n"
          ],
          "name": "stdout"
        }
      ]
    },
    {
      "cell_type": "markdown",
      "metadata": {
        "id": "LgcXzQ5maZTP",
        "colab_type": "text"
      },
      "source": [
        "# evaluate"
      ]
    },
    {
      "cell_type": "code",
      "metadata": {
        "id": "O6WaTeZ4VlUL",
        "colab_type": "code",
        "colab": {
          "base_uri": "https://localhost:8080/",
          "height": 664
        },
        "outputId": "43f77983-bf26-4e89-9e00-1993e33ec458"
      },
      "source": [
        "train_result = model.evaluate(train_dataset)\n",
        "val_result = model.evaluate(val_dataset)\n",
        "print('Train Acc:', train_result[1])\n",
        "print('Test Acc:', val_result[1])\n",
        "\n",
        "acc = history.history['accuracy']\n",
        "val_acc = history.history['val_accuracy']\n",
        "\n",
        "loss=history.history['loss']\n",
        "val_loss=history.history['val_loss']\n",
        "\n",
        "epochs_range = range(epochs)\n",
        "\n",
        "plt.figure(figsize=(8, 8))\n",
        "plt.subplot(2, 1, 1)\n",
        "plt.plot(epochs_range, acc, label='Training Accuracy')\n",
        "plt.plot(epochs_range, val_acc, label='Validation Accuracy')\n",
        "plt.legend(loc='lower right')\n",
        "plt.title('Training and Validation Accuracy')\n",
        "\n",
        "plt.subplot(2, 1, 2)\n",
        "plt.plot(epochs_range, loss, label='Training Loss')\n",
        "plt.plot(epochs_range, val_loss, label='Validation Loss')\n",
        "plt.legend(loc='upper right')\n",
        "plt.title('Training and Validation Loss')\n",
        "plt.show()\n"
      ],
      "execution_count": 64,
      "outputs": [
        {
          "output_type": "stream",
          "text": [
            "\r 1/78 [..............................] - ETA: 1:01 - loss: 0.9875 - accuracy: 0.6641WARNING:tensorflow:Callbacks method `on_test_batch_end` is slow compared to the batch time (batch time: 0.0024s vs `on_test_batch_end` time: 0.0189s). Check your callbacks.\n"
          ],
          "name": "stdout"
        },
        {
          "output_type": "stream",
          "text": [
            "WARNING:tensorflow:Callbacks method `on_test_batch_end` is slow compared to the batch time (batch time: 0.0024s vs `on_test_batch_end` time: 0.0189s). Check your callbacks.\n"
          ],
          "name": "stderr"
        },
        {
          "output_type": "stream",
          "text": [
            "78/78 [==============================] - 4s 53ms/step - loss: 0.8987 - accuracy: 0.6975\n",
            " 1/27 [>.............................] - ETA: 1s - loss: 1.1554 - accuracy: 0.6328WARNING:tensorflow:Callbacks method `on_test_batch_end` is slow compared to the batch time (batch time: 0.0023s vs `on_test_batch_end` time: 0.0222s). Check your callbacks.\n"
          ],
          "name": "stdout"
        },
        {
          "output_type": "stream",
          "text": [
            "WARNING:tensorflow:Callbacks method `on_test_batch_end` is slow compared to the batch time (batch time: 0.0023s vs `on_test_batch_end` time: 0.0222s). Check your callbacks.\n"
          ],
          "name": "stderr"
        },
        {
          "output_type": "stream",
          "text": [
            "27/27 [==============================] - 1s 25ms/step - loss: 1.4748 - accuracy: 0.5933\n",
            "Train Acc: 0.6975470781326294\n",
            "Test Acc: 0.5932944416999817\n"
          ],
          "name": "stdout"
        },
        {
          "output_type": "display_data",
          "data": {
            "image/png": "[encoded data removed]",
            "text/plain": [
              "<Figure size 576x576 with 2 Axes>"
            ]
          },
          "metadata": {
            "tags": [],
            "needs_background": "light"
          }
        }
      ]
    },
    {
      "cell_type": "markdown",
      "metadata": {
        "id": "dMmMllplab8e",
        "colab_type": "text"
      },
      "source": [
        "# prediction"
      ]
    },
    {
      "cell_type": "code",
      "metadata": {
        "id": "bzpayoYJYEw0",
        "colab_type": "code",
        "colab": {}
      },
      "source": [
        "prediction = model.predict(test_x)"
      ],
      "execution_count": null,
      "outputs": []
    },
    {
      "cell_type": "code",
      "metadata": {
        "id": "odgRXvFNYWfX",
        "colab_type": "code",
        "colab": {
          "base_uri": "https://localhost:8080/",
          "height": 144
        },
        "outputId": "e6e3c1a6-2e71-45db-963f-62c786bc6075"
      },
      "source": [
        "train_y"
      ],
      "execution_count": null,
      "outputs": [
        {
          "output_type": "execute_result",
          "data": {
            "text/plain": [
              "array([[1., 0., 0., ..., 0., 0., 0.],\n",
              "       [1., 0., 0., ..., 0., 0., 0.],\n",
              "       [1., 0., 0., ..., 0., 0., 0.],\n",
              "       ...,\n",
              "       [1., 0., 0., ..., 0., 0., 0.],\n",
              "       [1., 0., 0., ..., 0., 0., 0.],\n",
              "       [1., 0., 0., ..., 0., 0., 0.]], dtype=float32)"
            ]
          },
          "metadata": {
            "tags": []
          },
          "execution_count": 28
        }
      ]
    }
  ]
}
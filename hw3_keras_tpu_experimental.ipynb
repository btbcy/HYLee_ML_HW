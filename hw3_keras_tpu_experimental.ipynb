{
  "nbformat": 4,
  "nbformat_minor": 0,
  "metadata": {
    "kernelspec": {
      "language": "python",
      "display_name": "Python 3",
      "name": "python3"
    },
    "language_info": {
      "pygments_lexer": "ipython3",
      "nbconvert_exporter": "python",
      "version": "3.6.4",
      "file_extension": ".py",
      "codemirror_mode": {
        "name": "ipython",
        "version": 3
      },
      "name": "python",
      "mimetype": "text/x-python"
    },
    "colab": {
      "name": "hw3_keras_tpu_experimental.ipynb",
      "provenance": [],
      "collapsed_sections": [
        "CAM7w7vGe7YT"
      ],
      "toc_visible": true,
      "include_colab_link": true
    },
    "accelerator": "TPU"
  },
  "cells": [
    {
      "cell_type": "markdown",
      "metadata": {
        "id": "view-in-github",
        "colab_type": "text"
      },
      "source": [
        "<a href=\"https://colab.research.google.com/github/btbcy/HYLee_ML_HW/blob/master/hw3_keras_tpu_experimental.ipynb\" target=\"_parent\"><img src=\"https://colab.research.google.com/assets/colab-badge.svg\" alt=\"Open In Colab\"/></a>"
      ]
    },
    {
      "cell_type": "code",
      "metadata": {
        "id": "xhdkuFGbYLEL",
        "colab_type": "code",
        "colab": {}
      },
      "source": [
        "notebook = 'google'\n",
        "# notebook = 'kaggle'"
      ],
      "execution_count": 1,
      "outputs": []
    },
    {
      "cell_type": "code",
      "metadata": {
        "id": "H7fKpMfVYIA4",
        "colab_type": "code",
        "colab": {
          "base_uri": "https://localhost:8080/",
          "height": 35
        },
        "outputId": "df60b3df-1524-46c5-ce3e-e42b33fe3136"
      },
      "source": [
        "ls"
      ],
      "execution_count": 2,
      "outputs": [
        {
          "output_type": "stream",
          "text": [
            "\u001b[0m\u001b[01;34msample_data\u001b[0m/\n"
          ],
          "name": "stdout"
        }
      ]
    },
    {
      "cell_type": "markdown",
      "metadata": {
        "id": "NnmkTtNoTalc",
        "colab_type": "text"
      },
      "source": [
        "# for kaggle kernel"
      ]
    },
    {
      "cell_type": "code",
      "metadata": {
        "trusted": true,
        "id": "BizsZoQ-TSMt",
        "colab_type": "code",
        "colab": {}
      },
      "source": [
        "if notebook == 'kaggle':\n",
        "  !conda install -y gdown\n",
        "  import gdown"
      ],
      "execution_count": 3,
      "outputs": []
    },
    {
      "cell_type": "markdown",
      "metadata": {
        "id": "u8j-X0JJIQCB",
        "colab_type": "text"
      },
      "source": [
        "# google drive"
      ]
    },
    {
      "cell_type": "code",
      "metadata": {
        "id": "lOFGHZpv1K4C",
        "trusted": true,
        "colab_type": "code",
        "colab": {
          "base_uri": "https://localhost:8080/",
          "height": 90
        },
        "outputId": "f965ec56-87ec-4262-e9f9-fca27c501cd0"
      },
      "source": [
        "!gdown --id '19CzXudqN58R3D-1G8KeFWk8UDQwlb8is' --output food-11.zip # 下載資料集"
      ],
      "execution_count": 4,
      "outputs": [
        {
          "output_type": "stream",
          "text": [
            "Downloading...\n",
            "From: https://drive.google.com/uc?id=19CzXudqN58R3D-1G8KeFWk8UDQwlb8is\n",
            "To: /content/food-11.zip\n",
            "1.16GB [00:07, 164MB/s]\n"
          ],
          "name": "stdout"
        }
      ]
    },
    {
      "cell_type": "markdown",
      "metadata": {
        "id": "xeK2cK0_1vTp",
        "colab_type": "text"
      },
      "source": [
        "# unzip"
      ]
    },
    {
      "cell_type": "code",
      "metadata": {
        "id": "DmFMbWXc1Voy",
        "trusted": true,
        "colab_type": "code",
        "colab": {}
      },
      "source": [
        "!unzip -q food-11.zip"
      ],
      "execution_count": 5,
      "outputs": []
    },
    {
      "cell_type": "markdown",
      "metadata": {
        "id": "0vtl4vnYSHri",
        "colab_type": "text"
      },
      "source": [
        "# import"
      ]
    },
    {
      "cell_type": "code",
      "metadata": {
        "id": "4eplJQs2SOxl",
        "trusted": true,
        "colab_type": "code",
        "colab": {
          "base_uri": "https://localhost:8080/",
          "height": 35
        },
        "outputId": "24d6c9f4-ea70-47e0-dd2e-7ce6139b6da6"
      },
      "source": [
        "import os\n",
        "import numpy as np\n",
        "import cv2\n",
        "import matplotlib.pyplot as plt\n",
        "# import time\n",
        "\n",
        "import tensorflow as tf\n",
        "from tensorflow import keras\n",
        "from tensorflow.keras import layers\n",
        "\n",
        "print(\"Tensorflow version \" + tf.__version__)\n",
        "AUTO = tf.data.experimental.AUTOTUNE"
      ],
      "execution_count": 6,
      "outputs": [
        {
          "output_type": "stream",
          "text": [
            "Tensorflow version 2.3.0\n"
          ],
          "name": "stdout"
        }
      ]
    },
    {
      "cell_type": "markdown",
      "metadata": {
        "id": "8t7SlQa7NW6d",
        "colab_type": "text"
      },
      "source": [
        "# TPU"
      ]
    },
    {
      "cell_type": "code",
      "metadata": {
        "id": "1xWLszyfNO7A",
        "trusted": true,
        "colab_type": "code",
        "colab": {
          "base_uri": "https://localhost:8080/",
          "height": 145
        },
        "outputId": "b38fa88c-b8b8-4426-ebf3-b02714b2a66c"
      },
      "source": [
        "if notebook == 'kaggle':\n",
        "  resolver = tf.distribute.cluster_resolver.TPUClusterResolver()\n",
        "\n",
        "if notebook == 'google':\n",
        "  resolver = tf.distribute.cluster_resolver.TPUClusterResolver(tpu='grpc://' + os.environ['COLAB_TPU_ADDR'])\n",
        "\n",
        "tf.config.experimental_connect_to_cluster(resolver)\n",
        "tf.tpu.experimental.initialize_tpu_system(resolver)"
      ],
      "execution_count": 7,
      "outputs": [
        {
          "output_type": "stream",
          "text": [
            "INFO:tensorflow:Initializing the TPU system: grpc://10.124.238.210:8470\n"
          ],
          "name": "stdout"
        },
        {
          "output_type": "stream",
          "text": [
            "INFO:tensorflow:Initializing the TPU system: grpc://10.124.238.210:8470\n"
          ],
          "name": "stderr"
        },
        {
          "output_type": "stream",
          "text": [
            "INFO:tensorflow:Clearing out eager caches\n"
          ],
          "name": "stdout"
        },
        {
          "output_type": "stream",
          "text": [
            "INFO:tensorflow:Clearing out eager caches\n"
          ],
          "name": "stderr"
        },
        {
          "output_type": "stream",
          "text": [
            "INFO:tensorflow:Finished initializing TPU system.\n"
          ],
          "name": "stdout"
        },
        {
          "output_type": "stream",
          "text": [
            "INFO:tensorflow:Finished initializing TPU system.\n"
          ],
          "name": "stderr"
        },
        {
          "output_type": "execute_result",
          "data": {
            "text/plain": [
              "<tensorflow.python.tpu.topology.Topology at 0x7faea0e16dd8>"
            ]
          },
          "metadata": {
            "tags": []
          },
          "execution_count": 7
        }
      ]
    },
    {
      "cell_type": "markdown",
      "metadata": {
        "id": "fEPxuGktaOTH",
        "colab_type": "text"
      },
      "source": [
        "# read data"
      ]
    },
    {
      "cell_type": "code",
      "metadata": {
        "id": "GBTi3-IYSiFh",
        "trusted": true,
        "colab_type": "code",
        "colab": {}
      },
      "source": [
        "def readfile(path, label):\n",
        "    # label 是一個 boolean variable，代表需不需要回傳 y 值\n",
        "    image_dir = sorted(os.listdir(path))\n",
        "    # x = np.zeros((len(image_dir), 128, 128, 3), dtype=np.uint8)\n",
        "    x = np.zeros((len(image_dir), 128, 128, 3), dtype=np.float16)\n",
        "    y = np.zeros((len(image_dir)), dtype=np.uint8)\n",
        "#     y = np.zeros((len(image_dir)), dtype=np.float16)\n",
        "    for i, file in enumerate(image_dir):\n",
        "        img = cv2.imread(os.path.join(path, file))\n",
        "        x[i, :, :] = cv2.resize(img,(128, 128)) * 1 / 255\n",
        "        # do normalization on augmentation\n",
        "        # x[i, :, :] = cv2.resize(img,(128, 128))\n",
        "        if label:\n",
        "          # keras.utils.to_categorical(int(file.split(\"_\")[0]), num_classes=11)\n",
        "          y[i] = int(file.split(\"_\")[0])\n",
        "    if label:\n",
        "      return x, y\n",
        "    else:\n",
        "      return x"
      ],
      "execution_count": 8,
      "outputs": []
    },
    {
      "cell_type": "code",
      "metadata": {
        "id": "zCID5PGySpGJ",
        "trusted": true,
        "colab_type": "code",
        "colab": {
          "base_uri": "https://localhost:8080/",
          "height": 90
        },
        "outputId": "9a93864a-e2f6-4e7f-eaa5-cb4cab9485d0"
      },
      "source": [
        "# 分別將 training set、validation set、testing set 用 readfile 函式讀進來\n",
        "workspace_dir = './food-11'\n",
        "print(\"Reading data\")\n",
        "train_x, train_y = readfile(os.path.join(workspace_dir, \"training\"), True)\n",
        "print(\"Size of training data = {}\".format(len(train_x)))\n",
        "val_x, val_y = readfile(os.path.join(workspace_dir, \"validation\"), True)\n",
        "print(\"Size of validation data = {}\".format(len(val_x)))\n",
        "test_x = readfile(os.path.join(workspace_dir, \"testing\"), False)\n",
        "print(\"Size of Testing data = {}\".format(len(test_x)))"
      ],
      "execution_count": 9,
      "outputs": [
        {
          "output_type": "stream",
          "text": [
            "Reading data\n",
            "Size of training data = 9866\n",
            "Size of validation data = 3430\n",
            "Size of Testing data = 3347\n"
          ],
          "name": "stdout"
        }
      ]
    },
    {
      "cell_type": "markdown",
      "metadata": {
        "id": "3KrUqa_GKqFZ",
        "colab_type": "text"
      },
      "source": [
        "## preprocessing"
      ]
    },
    {
      "cell_type": "code",
      "metadata": {
        "id": "ov44SJVWE1vc",
        "trusted": true,
        "colab_type": "code",
        "colab": {}
      },
      "source": [
        "# Converts a class vector (integers) to binary class matrix.\n",
        "train_y = keras.utils.to_categorical(train_y, num_classes=11)\n",
        "val_y = keras.utils.to_categorical(val_y, num_classes=11)\n",
        "\n",
        "index = np.arange(len(train_x))\n",
        "np.random.shuffle(index)\n",
        "train_x = train_x[index]\n",
        "train_y = train_y[index]"
      ],
      "execution_count": 10,
      "outputs": []
    },
    {
      "cell_type": "markdown",
      "metadata": {
        "id": "xy7t4be8afD3",
        "colab_type": "text"
      },
      "source": [
        "# augmentation"
      ]
    },
    {
      "cell_type": "code",
      "metadata": {
        "id": "iX7thyS5apl4",
        "trusted": true,
        "colab_type": "code",
        "colab": {}
      },
      "source": [
        "# train_datagen = keras.preprocessing.image.ImageDataGenerator(\n",
        "#     # featurewise_center=True,\n",
        "#     # featurewise_std_normalization=True,\n",
        "#     rotation_range=15,\n",
        "#     # width_shift_range=0.2,\n",
        "#     # height_shift_range=0.2,\n",
        "#     # shear_range=0.2,\n",
        "#     # zoom_range=0.2,\n",
        "#     horizontal_flip=True,\n",
        "# )\n",
        "# # test_datagen = keras.preprocessing.image.ImageDataGenerator(\n",
        "# #     rescale=1./255\n",
        "# # )\n",
        "\n",
        "# # compute quantities required for featurewise normalization\n",
        "# # (std, mean, and principal components if ZCA whitening is applied)\n",
        "# # train_datagen.fit(train_x)"
      ],
      "execution_count": 11,
      "outputs": []
    },
    {
      "cell_type": "code",
      "metadata": {
        "id": "T5TyNmauXKQc",
        "trusted": true,
        "colab_type": "code",
        "colab": {}
      },
      "source": [
        "data_augmentation = tf.keras.Sequential([\n",
        "  layers.experimental.preprocessing.RandomFlip(\"horizontal\", input_shape=(128, 128, 3)),\n",
        "  layers.experimental.preprocessing.RandomRotation(0.05),\n",
        "  # layers.experimental.preprocessing.RandomHeight(0.1),\n",
        "  # layers.experimental.preprocessing.RandomWidth(0.05),\n",
        "  # layers.experimental.preprocessing.RandomZoom(0.1, 0.1)\n",
        "  # layers.experimental.preprocessing.RandomZoom(0.1, input_shape=(128, 128, 3)),\n",
        "])"
      ],
      "execution_count": 12,
      "outputs": []
    },
    {
      "cell_type": "markdown",
      "metadata": {
        "id": "TLQuOZ5-aSpA",
        "colab_type": "text"
      },
      "source": [
        "# model"
      ]
    },
    {
      "cell_type": "markdown",
      "metadata": {
        "id": "CAM7w7vGe7YT",
        "colab_type": "text"
      },
      "source": [
        "## dropout"
      ]
    },
    {
      "cell_type": "code",
      "metadata": {
        "id": "xAgUGT__Gvl6",
        "trusted": true,
        "colab_type": "code",
        "colab": {}
      },
      "source": [
        "# dropout\n",
        "def create_model():\n",
        "  return tf.keras.Sequential([\n",
        "    layers.BatchNormalization(input_shape=(128, 128, 3)),\n",
        "    layers.Conv2D(filters=64, kernel_size=(3, 3), padding='same', activation='relu'),\n",
        "    layers.MaxPool2D(pool_size=(2, 2)),\n",
        "    layers.Dropout(0.2),\n",
        "\n",
        "    layers.Conv2D(filters=128, kernel_size=(3, 3), padding='same', activation='relu'),\n",
        "    layers.MaxPool2D(pool_size=(2, 2)),\n",
        "    layers.Dropout(0.2),\n",
        "\n",
        "    layers.Conv2D(filters=256, kernel_size=(3, 3), padding='same', activation='relu'),\n",
        "    layers.MaxPool2D(pool_size=(2, 2)),\n",
        "    layers.Dropout(0.3),\n",
        "\n",
        "    layers.Conv2D(filters=512, kernel_size=(3, 3), padding='same', activation='relu'),\n",
        "    layers.MaxPool2D(pool_size=(2, 2)),\n",
        "    layers.Dropout(0.4),\n",
        "\n",
        "    layers.Conv2D(filters=512, kernel_size=(3, 3), padding='same', activation='relu'),\n",
        "    layers.MaxPool2D(pool_size=(2, 2)),\n",
        "    layers.Dropout(0.4),\n",
        "\n",
        "    layers.Flatten(),\n",
        "    # layers.Dense(units=512, activation='relu', kernel_regularizer=keras.regularizers.l2(0.001)),\n",
        "    layers.Dense(units=1024, activation='relu'),\n",
        "    layers.Dropout(0.4),\n",
        "    layers.Dense(units=512, activation='relu'),\n",
        "    layers.Dropout(0.4),\n",
        "    layers.Dense(units=11, activation='softmax')\n",
        "      \n",
        "  ])"
      ],
      "execution_count": null,
      "outputs": []
    },
    {
      "cell_type": "markdown",
      "metadata": {
        "id": "HbZ6Hgyje-TS",
        "colab_type": "text"
      },
      "source": [
        "## batchnormalization"
      ]
    },
    {
      "cell_type": "code",
      "metadata": {
        "trusted": true,
        "id": "CCrsE36fTSNE",
        "colab_type": "code",
        "colab": {}
      },
      "source": [
        "# batchnormalization\n",
        "def create_model():\n",
        "  return tf.keras.Sequential([\n",
        "    # layers.BatchNormalization(input_shape=(128, 128, 3)),\n",
        "    keras.Input(shape=(128, 128, 3)),\n",
        "    layers.BatchNormalization(),\n",
        "    # layers.Activation('relu'),\n",
        "    layers.Conv2D(filters=64, kernel_size=(3, 3), padding='same', kernel_initializer='he_normal', activation=None, name='Conv1_1'),\n",
        "    layers.BatchNormalization(),\n",
        "    layers.Activation('relu'),\n",
        "    layers.Conv2D(filters=64, kernel_size=(3, 3), padding='same', kernel_initializer='he_normal', activation=None, name='Conv1_2'),\n",
        "    layers.BatchNormalization(),\n",
        "    layers.Activation('relu'),\n",
        "    layers.MaxPool2D(pool_size=(2, 2), name='MaxPooling1'),\n",
        "    layers.Dropout(0.2),\n",
        "\n",
        "    layers.Conv2D(filters=128, kernel_size=(3, 3), padding='same', kernel_initializer='he_normal', activation=None, name='Conv2_1'),\n",
        "    layers.BatchNormalization(),\n",
        "    layers.Activation('relu'),\n",
        "    layers.Conv2D(filters=128, kernel_size=(3, 3), padding='same', kernel_initializer='he_normal', activation=None, name='Conv2_2'),\n",
        "    layers.BatchNormalization(),\n",
        "    layers.Activation('relu'),\n",
        "    layers.MaxPool2D(pool_size=(2, 2), name='MaxPooling2'),\n",
        "    layers.Dropout(0.2),\n",
        "\n",
        "    layers.Conv2D(filters=256, kernel_size=(3, 3), padding='same', kernel_initializer='he_normal', activation=None, name='Conv3_1'),\n",
        "    layers.BatchNormalization(),\n",
        "    layers.Activation('relu'),\n",
        "    # layers.Dropout(0.3),\n",
        "    layers.Conv2D(filters=256, kernel_size=(3, 3), padding='same', kernel_initializer='he_normal', activation=None, name='Conv3_2'),\n",
        "    layers.BatchNormalization(),\n",
        "    layers.Activation('relu'),\n",
        "    layers.MaxPool2D(pool_size=(2, 2), name='MaxPooling3'),\n",
        "    layers.Dropout(0.3),\n",
        "\n",
        "    layers.Conv2D(filters=512, kernel_size=(3, 3), padding='same', kernel_initializer='he_normal', activation=None, name='Conv4_1'),\n",
        "    layers.BatchNormalization(),\n",
        "    layers.Activation('relu'),\n",
        "    # layers.Dropout(0.4),\n",
        "    layers.Conv2D(filters=512, kernel_size=(3, 3), padding='same', kernel_initializer='he_normal', activation=None, name='Conv4_2'),\n",
        "    layers.BatchNormalization(),\n",
        "    layers.Activation('relu'),\n",
        "    layers.MaxPool2D(pool_size=(2, 2), name='MaxPooling4'),\n",
        "    layers.Dropout(0.4),\n",
        "\n",
        "    layers.Conv2D(filters=512, kernel_size=(3, 3), padding='same', kernel_initializer='he_normal', activation=None, name='Conv5_1'),\n",
        "    layers.BatchNormalization(),\n",
        "    layers.Activation('relu'),\n",
        "    # layers.Dropout(0.4),\n",
        "    layers.Conv2D(filters=512, kernel_size=(3, 3), padding='same', kernel_initializer='he_normal', activation=None, name='Conv5_2'),\n",
        "    layers.BatchNormalization(),\n",
        "    layers.Activation('relu'),\n",
        "    layers.MaxPool2D(pool_size=(2, 2), name='MaxPooling5'),\n",
        "    layers.Dropout(0.4),\n",
        "\n",
        "    layers.Flatten(),\n",
        "    layers.Dense(units=1024, activation=None),\n",
        "    layers.BatchNormalization(),\n",
        "    layers.Activation('relu'),\n",
        "    layers.Dropout(0.4),\n",
        "\n",
        "    layers.Dense(units=512, activation=None),\n",
        "    layers.BatchNormalization(),\n",
        "    layers.Activation('relu'),\n",
        "    layers.Dropout(0.4),\n",
        "\n",
        "    # layers.GlobalAveragePooling2D(name='avg_pool'),\n",
        "    layers.Dense(units=11, activation='softmax', name='fc11')\n",
        "      \n",
        "  ])"
      ],
      "execution_count": 78,
      "outputs": []
    },
    {
      "cell_type": "code",
      "metadata": {
        "id": "wOFcuwWns94Y",
        "colab_type": "code",
        "colab": {}
      },
      "source": [
        "def create_model():\n",
        "  return tf.keras.applications.ResNet152V2(\n",
        "    include_top=False,\n",
        "    weights=None,\n",
        "    input_tensor=None,\n",
        "    input_shape=(128, 128, 3),\n",
        "    pooling=\"avg\",\n",
        "    classes=11,\n",
        "    classifier_activation=\"softmax\",\n",
        "  )"
      ],
      "execution_count": 76,
      "outputs": []
    },
    {
      "cell_type": "markdown",
      "metadata": {
        "id": "rZeqbwyhe1a4",
        "colab_type": "text"
      },
      "source": [
        "# dataset"
      ]
    },
    {
      "cell_type": "code",
      "metadata": {
        "id": "NvkH2hfg0vM2",
        "trusted": true,
        "colab_type": "code",
        "colab": {}
      },
      "source": [
        "batch_size = 256"
      ],
      "execution_count": 56,
      "outputs": []
    },
    {
      "cell_type": "code",
      "metadata": {
        "trusted": true,
        "id": "8BCW96hfTSNH",
        "colab_type": "code",
        "colab": {}
      },
      "source": [
        "val_dataset = (\n",
        "#   tf.data.Dataset.from_tensor_slices((val_x,val_y))\n",
        "  tf.data.Dataset.from_tensor_slices((tf.cast(val_x, tf.bfloat16), tf.cast(val_y, tf.bfloat16)))\n",
        "  .batch(batch_size)\n",
        ")\n",
        "# val_dataset = val_dataset.batch(batch_size)\n",
        "test_dataset = tf.data.Dataset.from_tensor_slices(tf.cast(test_x, tf.bfloat16))"
      ],
      "execution_count": 57,
      "outputs": []
    },
    {
      "cell_type": "code",
      "metadata": {
        "id": "BBz0vm-AEIWF",
        "trusted": true,
        "colab_type": "code",
        "colab": {}
      },
      "source": [
        "train_dataset = (\n",
        "#   tf.data.Dataset.from_tensor_slices((train_x, train_y))\n",
        "  tf.data.Dataset.from_tensor_slices((tf.cast(train_x, tf.bfloat16), tf.cast(train_y, tf.bfloat16)))\n",
        "  .shuffle(len(train_x))\n",
        "  .batch(batch_size)\n",
        ")"
      ],
      "execution_count": 58,
      "outputs": []
    },
    {
      "cell_type": "code",
      "metadata": {
        "id": "uV5XsJI_06Ej",
        "trusted": true,
        "colab_type": "code",
        "colab": {}
      },
      "source": [
        "train_aug_dataset = (train_dataset.map(lambda x, y: (data_augmentation(x), y),\n",
        "    num_parallel_calls=tf.data.experimental.AUTOTUNE\n",
        "  )\n",
        "  .prefetch(tf.data.experimental.AUTOTUNE)\n",
        ")"
      ],
      "execution_count": 59,
      "outputs": []
    },
    {
      "cell_type": "markdown",
      "metadata": {
        "id": "5-L0KfhuaVV-",
        "colab_type": "text"
      },
      "source": [
        "# train"
      ]
    },
    {
      "cell_type": "code",
      "metadata": {
        "id": "rS8RED0ZlTes",
        "trusted": true,
        "colab_type": "code",
        "colab": {
          "base_uri": "https://localhost:8080/",
          "height": 1000
        },
        "outputId": "6b05d7f3-1281-4c66-90ed-6fcb4632ffba"
      },
      "source": [
        "if notebook == 'kaggle':\n",
        "  strategy = tf.distribute.experimental.TPUStrategy(resolver)\n",
        "\n",
        "if notebook == 'google':\n",
        "  strategy = tf.distribute.TPUStrategy(resolver)\n",
        "# strategy = tf.distribute.MirroredStrategy(resolver)\n",
        "with strategy.scope():\n",
        "  model = create_model()\n",
        "  model.compile(\n",
        "    optimizer=keras.optimizers.Adam(learning_rate=0.001),\n",
        "    # optimizer=keras.optimizers.SGD(learning_rate=0.1, momentum=0.9),\n",
        "    loss='categorical_crossentropy',\n",
        "#     loss='sparse_categorical_crossentropy',\n",
        "    metrics=['accuracy']\n",
        "  )\n",
        "\n",
        "model.summary()"
      ],
      "execution_count": 79,
      "outputs": [
        {
          "output_type": "stream",
          "text": [
            "INFO:tensorflow:Found TPU system:\n"
          ],
          "name": "stdout"
        },
        {
          "output_type": "stream",
          "text": [
            "INFO:tensorflow:Found TPU system:\n"
          ],
          "name": "stderr"
        },
        {
          "output_type": "stream",
          "text": [
            "INFO:tensorflow:*** Num TPU Cores: 8\n"
          ],
          "name": "stdout"
        },
        {
          "output_type": "stream",
          "text": [
            "INFO:tensorflow:*** Num TPU Cores: 8\n"
          ],
          "name": "stderr"
        },
        {
          "output_type": "stream",
          "text": [
            "INFO:tensorflow:*** Num TPU Workers: 1\n"
          ],
          "name": "stdout"
        },
        {
          "output_type": "stream",
          "text": [
            "INFO:tensorflow:*** Num TPU Workers: 1\n"
          ],
          "name": "stderr"
        },
        {
          "output_type": "stream",
          "text": [
            "INFO:tensorflow:*** Num TPU Cores Per Worker: 8\n"
          ],
          "name": "stdout"
        },
        {
          "output_type": "stream",
          "text": [
            "INFO:tensorflow:*** Num TPU Cores Per Worker: 8\n"
          ],
          "name": "stderr"
        },
        {
          "output_type": "stream",
          "text": [
            "INFO:tensorflow:*** Available Device: _DeviceAttributes(/job:localhost/replica:0/task:0/device:CPU:0, CPU, 0, 0)\n"
          ],
          "name": "stdout"
        },
        {
          "output_type": "stream",
          "text": [
            "INFO:tensorflow:*** Available Device: _DeviceAttributes(/job:localhost/replica:0/task:0/device:CPU:0, CPU, 0, 0)\n"
          ],
          "name": "stderr"
        },
        {
          "output_type": "stream",
          "text": [
            "INFO:tensorflow:*** Available Device: _DeviceAttributes(/job:localhost/replica:0/task:0/device:XLA_CPU:0, XLA_CPU, 0, 0)\n"
          ],
          "name": "stdout"
        },
        {
          "output_type": "stream",
          "text": [
            "INFO:tensorflow:*** Available Device: _DeviceAttributes(/job:localhost/replica:0/task:0/device:XLA_CPU:0, XLA_CPU, 0, 0)\n"
          ],
          "name": "stderr"
        },
        {
          "output_type": "stream",
          "text": [
            "INFO:tensorflow:*** Available Device: _DeviceAttributes(/job:worker/replica:0/task:0/device:CPU:0, CPU, 0, 0)\n"
          ],
          "name": "stdout"
        },
        {
          "output_type": "stream",
          "text": [
            "INFO:tensorflow:*** Available Device: _DeviceAttributes(/job:worker/replica:0/task:0/device:CPU:0, CPU, 0, 0)\n"
          ],
          "name": "stderr"
        },
        {
          "output_type": "stream",
          "text": [
            "INFO:tensorflow:*** Available Device: _DeviceAttributes(/job:worker/replica:0/task:0/device:TPU:0, TPU, 0, 0)\n"
          ],
          "name": "stdout"
        },
        {
          "output_type": "stream",
          "text": [
            "INFO:tensorflow:*** Available Device: _DeviceAttributes(/job:worker/replica:0/task:0/device:TPU:0, TPU, 0, 0)\n"
          ],
          "name": "stderr"
        },
        {
          "output_type": "stream",
          "text": [
            "INFO:tensorflow:*** Available Device: _DeviceAttributes(/job:worker/replica:0/task:0/device:TPU:1, TPU, 0, 0)\n"
          ],
          "name": "stdout"
        },
        {
          "output_type": "stream",
          "text": [
            "INFO:tensorflow:*** Available Device: _DeviceAttributes(/job:worker/replica:0/task:0/device:TPU:1, TPU, 0, 0)\n"
          ],
          "name": "stderr"
        },
        {
          "output_type": "stream",
          "text": [
            "INFO:tensorflow:*** Available Device: _DeviceAttributes(/job:worker/replica:0/task:0/device:TPU:2, TPU, 0, 0)\n"
          ],
          "name": "stdout"
        },
        {
          "output_type": "stream",
          "text": [
            "INFO:tensorflow:*** Available Device: _DeviceAttributes(/job:worker/replica:0/task:0/device:TPU:2, TPU, 0, 0)\n"
          ],
          "name": "stderr"
        },
        {
          "output_type": "stream",
          "text": [
            "INFO:tensorflow:*** Available Device: _DeviceAttributes(/job:worker/replica:0/task:0/device:TPU:3, TPU, 0, 0)\n"
          ],
          "name": "stdout"
        },
        {
          "output_type": "stream",
          "text": [
            "INFO:tensorflow:*** Available Device: _DeviceAttributes(/job:worker/replica:0/task:0/device:TPU:3, TPU, 0, 0)\n"
          ],
          "name": "stderr"
        },
        {
          "output_type": "stream",
          "text": [
            "INFO:tensorflow:*** Available Device: _DeviceAttributes(/job:worker/replica:0/task:0/device:TPU:4, TPU, 0, 0)\n"
          ],
          "name": "stdout"
        },
        {
          "output_type": "stream",
          "text": [
            "INFO:tensorflow:*** Available Device: _DeviceAttributes(/job:worker/replica:0/task:0/device:TPU:4, TPU, 0, 0)\n"
          ],
          "name": "stderr"
        },
        {
          "output_type": "stream",
          "text": [
            "INFO:tensorflow:*** Available Device: _DeviceAttributes(/job:worker/replica:0/task:0/device:TPU:5, TPU, 0, 0)\n"
          ],
          "name": "stdout"
        },
        {
          "output_type": "stream",
          "text": [
            "INFO:tensorflow:*** Available Device: _DeviceAttributes(/job:worker/replica:0/task:0/device:TPU:5, TPU, 0, 0)\n"
          ],
          "name": "stderr"
        },
        {
          "output_type": "stream",
          "text": [
            "INFO:tensorflow:*** Available Device: _DeviceAttributes(/job:worker/replica:0/task:0/device:TPU:6, TPU, 0, 0)\n"
          ],
          "name": "stdout"
        },
        {
          "output_type": "stream",
          "text": [
            "INFO:tensorflow:*** Available Device: _DeviceAttributes(/job:worker/replica:0/task:0/device:TPU:6, TPU, 0, 0)\n"
          ],
          "name": "stderr"
        },
        {
          "output_type": "stream",
          "text": [
            "INFO:tensorflow:*** Available Device: _DeviceAttributes(/job:worker/replica:0/task:0/device:TPU:7, TPU, 0, 0)\n"
          ],
          "name": "stdout"
        },
        {
          "output_type": "stream",
          "text": [
            "INFO:tensorflow:*** Available Device: _DeviceAttributes(/job:worker/replica:0/task:0/device:TPU:7, TPU, 0, 0)\n"
          ],
          "name": "stderr"
        },
        {
          "output_type": "stream",
          "text": [
            "INFO:tensorflow:*** Available Device: _DeviceAttributes(/job:worker/replica:0/task:0/device:TPU_SYSTEM:0, TPU_SYSTEM, 0, 0)\n"
          ],
          "name": "stdout"
        },
        {
          "output_type": "stream",
          "text": [
            "INFO:tensorflow:*** Available Device: _DeviceAttributes(/job:worker/replica:0/task:0/device:TPU_SYSTEM:0, TPU_SYSTEM, 0, 0)\n"
          ],
          "name": "stderr"
        },
        {
          "output_type": "stream",
          "text": [
            "INFO:tensorflow:*** Available Device: _DeviceAttributes(/job:worker/replica:0/task:0/device:XLA_CPU:0, XLA_CPU, 0, 0)\n"
          ],
          "name": "stdout"
        },
        {
          "output_type": "stream",
          "text": [
            "INFO:tensorflow:*** Available Device: _DeviceAttributes(/job:worker/replica:0/task:0/device:XLA_CPU:0, XLA_CPU, 0, 0)\n"
          ],
          "name": "stderr"
        },
        {
          "output_type": "stream",
          "text": [
            "Model: \"sequential_14\"\n",
            "_________________________________________________________________\n",
            "Layer (type)                 Output Shape              Param #   \n",
            "=================================================================\n",
            "batch_normalization_143 (Bat (None, 128, 128, 3)       12        \n",
            "_________________________________________________________________\n",
            "Conv1_1 (Conv2D)             (None, 128, 128, 64)      1792      \n",
            "_________________________________________________________________\n",
            "batch_normalization_144 (Bat (None, 128, 128, 64)      256       \n",
            "_________________________________________________________________\n",
            "activation_130 (Activation)  (None, 128, 128, 64)      0         \n",
            "_________________________________________________________________\n",
            "Conv1_2 (Conv2D)             (None, 128, 128, 64)      36928     \n",
            "_________________________________________________________________\n",
            "batch_normalization_145 (Bat (None, 128, 128, 64)      256       \n",
            "_________________________________________________________________\n",
            "activation_131 (Activation)  (None, 128, 128, 64)      0         \n",
            "_________________________________________________________________\n",
            "MaxPooling1 (MaxPooling2D)   (None, 64, 64, 64)        0         \n",
            "_________________________________________________________________\n",
            "dropout_85 (Dropout)         (None, 64, 64, 64)        0         \n",
            "_________________________________________________________________\n",
            "Conv2_1 (Conv2D)             (None, 64, 64, 128)       73856     \n",
            "_________________________________________________________________\n",
            "batch_normalization_146 (Bat (None, 64, 64, 128)       512       \n",
            "_________________________________________________________________\n",
            "activation_132 (Activation)  (None, 64, 64, 128)       0         \n",
            "_________________________________________________________________\n",
            "Conv2_2 (Conv2D)             (None, 64, 64, 128)       147584    \n",
            "_________________________________________________________________\n",
            "batch_normalization_147 (Bat (None, 64, 64, 128)       512       \n",
            "_________________________________________________________________\n",
            "activation_133 (Activation)  (None, 64, 64, 128)       0         \n",
            "_________________________________________________________________\n",
            "MaxPooling2 (MaxPooling2D)   (None, 32, 32, 128)       0         \n",
            "_________________________________________________________________\n",
            "dropout_86 (Dropout)         (None, 32, 32, 128)       0         \n",
            "_________________________________________________________________\n",
            "Conv3_1 (Conv2D)             (None, 32, 32, 256)       295168    \n",
            "_________________________________________________________________\n",
            "batch_normalization_148 (Bat (None, 32, 32, 256)       1024      \n",
            "_________________________________________________________________\n",
            "activation_134 (Activation)  (None, 32, 32, 256)       0         \n",
            "_________________________________________________________________\n",
            "Conv3_2 (Conv2D)             (None, 32, 32, 256)       590080    \n",
            "_________________________________________________________________\n",
            "batch_normalization_149 (Bat (None, 32, 32, 256)       1024      \n",
            "_________________________________________________________________\n",
            "activation_135 (Activation)  (None, 32, 32, 256)       0         \n",
            "_________________________________________________________________\n",
            "MaxPooling3 (MaxPooling2D)   (None, 16, 16, 256)       0         \n",
            "_________________________________________________________________\n",
            "dropout_87 (Dropout)         (None, 16, 16, 256)       0         \n",
            "_________________________________________________________________\n",
            "Conv4_1 (Conv2D)             (None, 16, 16, 512)       1180160   \n",
            "_________________________________________________________________\n",
            "batch_normalization_150 (Bat (None, 16, 16, 512)       2048      \n",
            "_________________________________________________________________\n",
            "activation_136 (Activation)  (None, 16, 16, 512)       0         \n",
            "_________________________________________________________________\n",
            "Conv4_2 (Conv2D)             (None, 16, 16, 512)       2359808   \n",
            "_________________________________________________________________\n",
            "batch_normalization_151 (Bat (None, 16, 16, 512)       2048      \n",
            "_________________________________________________________________\n",
            "activation_137 (Activation)  (None, 16, 16, 512)       0         \n",
            "_________________________________________________________________\n",
            "MaxPooling4 (MaxPooling2D)   (None, 8, 8, 512)         0         \n",
            "_________________________________________________________________\n",
            "dropout_88 (Dropout)         (None, 8, 8, 512)         0         \n",
            "_________________________________________________________________\n",
            "Conv5_1 (Conv2D)             (None, 8, 8, 512)         2359808   \n",
            "_________________________________________________________________\n",
            "batch_normalization_152 (Bat (None, 8, 8, 512)         2048      \n",
            "_________________________________________________________________\n",
            "activation_138 (Activation)  (None, 8, 8, 512)         0         \n",
            "_________________________________________________________________\n",
            "Conv5_2 (Conv2D)             (None, 8, 8, 512)         2359808   \n",
            "_________________________________________________________________\n",
            "batch_normalization_153 (Bat (None, 8, 8, 512)         2048      \n",
            "_________________________________________________________________\n",
            "activation_139 (Activation)  (None, 8, 8, 512)         0         \n",
            "_________________________________________________________________\n",
            "MaxPooling5 (MaxPooling2D)   (None, 4, 4, 512)         0         \n",
            "_________________________________________________________________\n",
            "dropout_89 (Dropout)         (None, 4, 4, 512)         0         \n",
            "_________________________________________________________________\n",
            "flatten_10 (Flatten)         (None, 8192)              0         \n",
            "_________________________________________________________________\n",
            "dense_20 (Dense)             (None, 1024)              8389632   \n",
            "_________________________________________________________________\n",
            "batch_normalization_154 (Bat (None, 1024)              4096      \n",
            "_________________________________________________________________\n",
            "activation_140 (Activation)  (None, 1024)              0         \n",
            "_________________________________________________________________\n",
            "dropout_90 (Dropout)         (None, 1024)              0         \n",
            "_________________________________________________________________\n",
            "dense_21 (Dense)             (None, 512)               524800    \n",
            "_________________________________________________________________\n",
            "batch_normalization_155 (Bat (None, 512)               2048      \n",
            "_________________________________________________________________\n",
            "activation_141 (Activation)  (None, 512)               0         \n",
            "_________________________________________________________________\n",
            "dropout_91 (Dropout)         (None, 512)               0         \n",
            "_________________________________________________________________\n",
            "fc11 (Dense)                 (None, 11)                5643      \n",
            "=================================================================\n",
            "Total params: 18,342,999\n",
            "Trainable params: 18,334,033\n",
            "Non-trainable params: 8,966\n",
            "_________________________________________________________________\n"
          ],
          "name": "stdout"
        }
      ]
    },
    {
      "cell_type": "code",
      "metadata": {
        "id": "5D8NRdtePd9-",
        "trusted": true,
        "colab_type": "code",
        "colab": {
          "base_uri": "https://localhost:8080/",
          "height": 292
        },
        "outputId": "3dfe9c71-8479-42c1-ae96-9d69b018282a"
      },
      "source": [
        "epochs = 5\n",
        "\n",
        "# reduce_lr = tf.keras.callbacks.ReduceLROnPlateau(monitor='loss', factor=0.1, patience=5)\n",
        "# history = model.fit(train_aug_dataset, batch_size=batch_size, epochs=epochs, validation_data=val_dataset, callbacks=[reduce_lr])\n",
        "history = model.fit(train_aug_dataset, batch_size=batch_size, epochs=epochs, validation_data=val_dataset)\n",
        "# history = model.fit(train_aug_dataset, batch_size=batch_size, epochs=epochs)"
      ],
      "execution_count": 64,
      "outputs": [
        {
          "output_type": "stream",
          "text": [
            "Epoch 1/5\n",
            " 2/39 [>.............................] - ETA: 12s - loss: 0.1971 - accuracy: 0.9453WARNING:tensorflow:Callbacks method `on_train_batch_end` is slow compared to the batch time (batch time: 0.0060s vs `on_train_batch_end` time: 0.1458s). Check your callbacks.\n"
          ],
          "name": "stdout"
        },
        {
          "output_type": "stream",
          "text": [
            "WARNING:tensorflow:Callbacks method `on_train_batch_end` is slow compared to the batch time (batch time: 0.0060s vs `on_train_batch_end` time: 0.1458s). Check your callbacks.\n"
          ],
          "name": "stderr"
        },
        {
          "output_type": "stream",
          "text": [
            "39/39 [==============================] - ETA: 0s - loss: 0.2326 - accuracy: 0.9189WARNING:tensorflow:Callbacks method `on_test_batch_end` is slow compared to the batch time (batch time: 0.0031s vs `on_test_batch_end` time: 0.0313s). Check your callbacks.\n"
          ],
          "name": "stdout"
        },
        {
          "output_type": "stream",
          "text": [
            "WARNING:tensorflow:Callbacks method `on_test_batch_end` is slow compared to the batch time (batch time: 0.0031s vs `on_test_batch_end` time: 0.0313s). Check your callbacks.\n"
          ],
          "name": "stderr"
        },
        {
          "output_type": "stream",
          "text": [
            "\b\b\b\b\b\b\b\b\b\b\b\b\b\b\b\b\b\b\b\b\b\b\b\b\b\b\b\b\b\b\b\b\b\b\b\b\b\b\b\b\b\b\b\b\b\b\b\b\b\b\b\b\b\b\b\b\b\b\b\b\b\b\b\b\b\b\b\b\b\b\b\b\b\b\b\b\b\b\b\b\b\b\r39/39 [==============================] - 7s 188ms/step - loss: 0.2326 - accuracy: 0.9189 - val_loss: 1.3605 - val_accuracy: 0.6962\n",
            "Epoch 2/5\n",
            "39/39 [==============================] - 7s 189ms/step - loss: 0.2154 - accuracy: 0.9231 - val_loss: 1.2582 - val_accuracy: 0.7303\n",
            "Epoch 3/5\n",
            "39/39 [==============================] - 7s 184ms/step - loss: 0.1980 - accuracy: 0.9317 - val_loss: 1.1466 - val_accuracy: 0.7300\n",
            "Epoch 4/5\n",
            "39/39 [==============================] - 7s 183ms/step - loss: 0.1950 - accuracy: 0.9347 - val_loss: 1.0239 - val_accuracy: 0.7566\n",
            "Epoch 5/5\n",
            "39/39 [==============================] - 7s 182ms/step - loss: 0.1807 - accuracy: 0.9356 - val_loss: 1.1811 - val_accuracy: 0.7280\n"
          ],
          "name": "stdout"
        }
      ]
    },
    {
      "cell_type": "markdown",
      "metadata": {
        "id": "LgcXzQ5maZTP",
        "colab_type": "text"
      },
      "source": [
        "# evaluate"
      ]
    },
    {
      "cell_type": "code",
      "metadata": {
        "id": "O6WaTeZ4VlUL",
        "trusted": true,
        "colab_type": "code",
        "colab": {
          "base_uri": "https://localhost:8080/",
          "height": 683
        },
        "outputId": "99692840-11f9-4e9e-c19f-d54d047795a5"
      },
      "source": [
        "train_result = model.evaluate(train_dataset)\n",
        "val_result = model.evaluate(val_dataset)\n",
        "print('Train Acc:', train_result[1])\n",
        "print('Test Acc:', val_result[1])\n",
        "print('Max Test Acc:', max(history.history['val_accuracy']))\n",
        "\n",
        "acc = history.history['accuracy']\n",
        "val_acc = history.history['val_accuracy']\n",
        "\n",
        "loss=history.history['loss']\n",
        "val_loss=history.history['val_loss']\n",
        "\n",
        "epochs_range = range(epochs)\n",
        "\n",
        "plt.figure(figsize=(8, 8))\n",
        "plt.subplot(2, 1, 1)\n",
        "plt.plot(epochs_range, acc, label='Training Accuracy')\n",
        "plt.plot(epochs_range, val_acc, label='Validation Accuracy')\n",
        "plt.legend(loc='lower right')\n",
        "plt.title('Training and Validation Accuracy')\n",
        "\n",
        "plt.subplot(2, 1, 2)\n",
        "plt.plot(epochs_range, loss, label='Training Loss')\n",
        "plt.plot(epochs_range, val_loss, label='Validation Loss')\n",
        "plt.legend(loc='upper right')\n",
        "plt.title('Training and Validation Loss')\n",
        "plt.show()"
      ],
      "execution_count": 65,
      "outputs": [
        {
          "output_type": "stream",
          "text": [
            "\r 1/39 [..............................] - ETA: 12s - loss: 0.2671 - accuracy: 0.8906WARNING:tensorflow:Callbacks method `on_test_batch_end` is slow compared to the batch time (batch time: 0.0035s vs `on_test_batch_end` time: 0.0357s). Check your callbacks.\n"
          ],
          "name": "stdout"
        },
        {
          "output_type": "stream",
          "text": [
            "WARNING:tensorflow:Callbacks method `on_test_batch_end` is slow compared to the batch time (batch time: 0.0035s vs `on_test_batch_end` time: 0.0357s). Check your callbacks.\n"
          ],
          "name": "stderr"
        },
        {
          "output_type": "stream",
          "text": [
            "39/39 [==============================] - 2s 47ms/step - loss: 0.2174 - accuracy: 0.9210\n",
            " 1/14 [=>............................] - ETA: 0s - loss: 2.2624 - accuracy: 0.4297WARNING:tensorflow:Callbacks method `on_test_batch_end` is slow compared to the batch time (batch time: 0.0036s vs `on_test_batch_end` time: 0.0325s). Check your callbacks.\n"
          ],
          "name": "stdout"
        },
        {
          "output_type": "stream",
          "text": [
            "WARNING:tensorflow:Callbacks method `on_test_batch_end` is slow compared to the batch time (batch time: 0.0036s vs `on_test_batch_end` time: 0.0325s). Check your callbacks.\n"
          ],
          "name": "stderr"
        },
        {
          "output_type": "stream",
          "text": [
            "14/14 [==============================] - 1s 42ms/step - loss: 1.1811 - accuracy: 0.7280\n",
            "Train Acc: 0.9210419058799744\n",
            "Test Acc: 0.7279883027076721\n",
            "Max Test Acc: 0.7565597295761108\n"
          ],
          "name": "stdout"
        },
        {
          "output_type": "display_data",
          "data": {
            "image/png": "[encoded data removed]",
            "text/plain": [
              "<Figure size 576x576 with 2 Axes>"
            ]
          },
          "metadata": {
            "tags": [],
            "needs_background": "light"
          }
        }
      ]
    },
    {
      "cell_type": "markdown",
      "metadata": {
        "id": "dMmMllplab8e",
        "colab_type": "text"
      },
      "source": [
        "# prediction"
      ]
    },
    {
      "cell_type": "code",
      "metadata": {
        "trusted": true,
        "id": "pL7J9hFBTSNV",
        "colab_type": "code",
        "colab": {}
      },
      "source": [
        "train_val_x = np.concatenate((train_x, val_x), axis=0)\n",
        "train_val_y = np.concatenate((train_y, val_y), axis=0)"
      ],
      "execution_count": 66,
      "outputs": []
    },
    {
      "cell_type": "code",
      "metadata": {
        "trusted": true,
        "id": "pftLfpHxTSNW",
        "colab_type": "code",
        "colab": {}
      },
      "source": [
        "train_val_dataset = (\n",
        "#   train_dataset.concatenate(val_dataset)\n",
        "  tf.data.Dataset.from_tensor_slices((tf.cast(train_val_x, tf.bfloat16), (tf.cast(train_val_y, tf.bfloat16))))\n",
        "  .shuffle(len(train_val_x))\n",
        "  .batch(batch_size)\n",
        ")"
      ],
      "execution_count": 67,
      "outputs": []
    },
    {
      "cell_type": "code",
      "metadata": {
        "trusted": true,
        "id": "m04YSEdITSNX",
        "colab_type": "code",
        "colab": {}
      },
      "source": [
        "train_val_aug_dataset = (train_val_dataset.map(lambda x, y: (data_augmentation(x), y),\n",
        "    num_parallel_calls=tf.data.experimental.AUTOTUNE\n",
        "  )\n",
        "  .prefetch(tf.data.experimental.AUTOTUNE)\n",
        ")"
      ],
      "execution_count": 68,
      "outputs": []
    },
    {
      "cell_type": "code",
      "metadata": {
        "trusted": true,
        "id": "_rt-N-h7TSNZ",
        "colab_type": "code",
        "colab": {
          "base_uri": "https://localhost:8080/",
          "height": 1000
        },
        "outputId": "f46c6af1-bdb4-4c38-9817-841a3994a165"
      },
      "source": [
        "strategy2 = tf.distribute.experimental.TPUStrategy(resolver)\n",
        "with strategy2.scope():\n",
        "  model_best = create_model()\n",
        "  model_best.compile(\n",
        "    optimizer=keras.optimizers.Adam(),\n",
        "    loss='categorical_crossentropy',\n",
        "    metrics=['accuracy']\n",
        "  )\n",
        "\n",
        "model_best.summary()"
      ],
      "execution_count": 69,
      "outputs": [
        {
          "output_type": "stream",
          "text": [
            "WARNING:absl:`tf.distribute.experimental.TPUStrategy` is deprecated, please use  the non experimental symbol `tf.distribute.TPUStrategy` instead.\n"
          ],
          "name": "stderr"
        },
        {
          "output_type": "stream",
          "text": [
            "INFO:tensorflow:Found TPU system:\n"
          ],
          "name": "stdout"
        },
        {
          "output_type": "stream",
          "text": [
            "INFO:tensorflow:Found TPU system:\n"
          ],
          "name": "stderr"
        },
        {
          "output_type": "stream",
          "text": [
            "INFO:tensorflow:*** Num TPU Cores: 8\n"
          ],
          "name": "stdout"
        },
        {
          "output_type": "stream",
          "text": [
            "INFO:tensorflow:*** Num TPU Cores: 8\n"
          ],
          "name": "stderr"
        },
        {
          "output_type": "stream",
          "text": [
            "INFO:tensorflow:*** Num TPU Workers: 1\n"
          ],
          "name": "stdout"
        },
        {
          "output_type": "stream",
          "text": [
            "INFO:tensorflow:*** Num TPU Workers: 1\n"
          ],
          "name": "stderr"
        },
        {
          "output_type": "stream",
          "text": [
            "INFO:tensorflow:*** Num TPU Cores Per Worker: 8\n"
          ],
          "name": "stdout"
        },
        {
          "output_type": "stream",
          "text": [
            "INFO:tensorflow:*** Num TPU Cores Per Worker: 8\n"
          ],
          "name": "stderr"
        },
        {
          "output_type": "stream",
          "text": [
            "INFO:tensorflow:*** Available Device: _DeviceAttributes(/job:localhost/replica:0/task:0/device:CPU:0, CPU, 0, 0)\n"
          ],
          "name": "stdout"
        },
        {
          "output_type": "stream",
          "text": [
            "INFO:tensorflow:*** Available Device: _DeviceAttributes(/job:localhost/replica:0/task:0/device:CPU:0, CPU, 0, 0)\n"
          ],
          "name": "stderr"
        },
        {
          "output_type": "stream",
          "text": [
            "INFO:tensorflow:*** Available Device: _DeviceAttributes(/job:localhost/replica:0/task:0/device:XLA_CPU:0, XLA_CPU, 0, 0)\n"
          ],
          "name": "stdout"
        },
        {
          "output_type": "stream",
          "text": [
            "INFO:tensorflow:*** Available Device: _DeviceAttributes(/job:localhost/replica:0/task:0/device:XLA_CPU:0, XLA_CPU, 0, 0)\n"
          ],
          "name": "stderr"
        },
        {
          "output_type": "stream",
          "text": [
            "INFO:tensorflow:*** Available Device: _DeviceAttributes(/job:worker/replica:0/task:0/device:CPU:0, CPU, 0, 0)\n"
          ],
          "name": "stdout"
        },
        {
          "output_type": "stream",
          "text": [
            "INFO:tensorflow:*** Available Device: _DeviceAttributes(/job:worker/replica:0/task:0/device:CPU:0, CPU, 0, 0)\n"
          ],
          "name": "stderr"
        },
        {
          "output_type": "stream",
          "text": [
            "INFO:tensorflow:*** Available Device: _DeviceAttributes(/job:worker/replica:0/task:0/device:TPU:0, TPU, 0, 0)\n"
          ],
          "name": "stdout"
        },
        {
          "output_type": "stream",
          "text": [
            "INFO:tensorflow:*** Available Device: _DeviceAttributes(/job:worker/replica:0/task:0/device:TPU:0, TPU, 0, 0)\n"
          ],
          "name": "stderr"
        },
        {
          "output_type": "stream",
          "text": [
            "INFO:tensorflow:*** Available Device: _DeviceAttributes(/job:worker/replica:0/task:0/device:TPU:1, TPU, 0, 0)\n"
          ],
          "name": "stdout"
        },
        {
          "output_type": "stream",
          "text": [
            "INFO:tensorflow:*** Available Device: _DeviceAttributes(/job:worker/replica:0/task:0/device:TPU:1, TPU, 0, 0)\n"
          ],
          "name": "stderr"
        },
        {
          "output_type": "stream",
          "text": [
            "INFO:tensorflow:*** Available Device: _DeviceAttributes(/job:worker/replica:0/task:0/device:TPU:2, TPU, 0, 0)\n"
          ],
          "name": "stdout"
        },
        {
          "output_type": "stream",
          "text": [
            "INFO:tensorflow:*** Available Device: _DeviceAttributes(/job:worker/replica:0/task:0/device:TPU:2, TPU, 0, 0)\n"
          ],
          "name": "stderr"
        },
        {
          "output_type": "stream",
          "text": [
            "INFO:tensorflow:*** Available Device: _DeviceAttributes(/job:worker/replica:0/task:0/device:TPU:3, TPU, 0, 0)\n"
          ],
          "name": "stdout"
        },
        {
          "output_type": "stream",
          "text": [
            "INFO:tensorflow:*** Available Device: _DeviceAttributes(/job:worker/replica:0/task:0/device:TPU:3, TPU, 0, 0)\n"
          ],
          "name": "stderr"
        },
        {
          "output_type": "stream",
          "text": [
            "INFO:tensorflow:*** Available Device: _DeviceAttributes(/job:worker/replica:0/task:0/device:TPU:4, TPU, 0, 0)\n"
          ],
          "name": "stdout"
        },
        {
          "output_type": "stream",
          "text": [
            "INFO:tensorflow:*** Available Device: _DeviceAttributes(/job:worker/replica:0/task:0/device:TPU:4, TPU, 0, 0)\n"
          ],
          "name": "stderr"
        },
        {
          "output_type": "stream",
          "text": [
            "INFO:tensorflow:*** Available Device: _DeviceAttributes(/job:worker/replica:0/task:0/device:TPU:5, TPU, 0, 0)\n"
          ],
          "name": "stdout"
        },
        {
          "output_type": "stream",
          "text": [
            "INFO:tensorflow:*** Available Device: _DeviceAttributes(/job:worker/replica:0/task:0/device:TPU:5, TPU, 0, 0)\n"
          ],
          "name": "stderr"
        },
        {
          "output_type": "stream",
          "text": [
            "INFO:tensorflow:*** Available Device: _DeviceAttributes(/job:worker/replica:0/task:0/device:TPU:6, TPU, 0, 0)\n"
          ],
          "name": "stdout"
        },
        {
          "output_type": "stream",
          "text": [
            "INFO:tensorflow:*** Available Device: _DeviceAttributes(/job:worker/replica:0/task:0/device:TPU:6, TPU, 0, 0)\n"
          ],
          "name": "stderr"
        },
        {
          "output_type": "stream",
          "text": [
            "INFO:tensorflow:*** Available Device: _DeviceAttributes(/job:worker/replica:0/task:0/device:TPU:7, TPU, 0, 0)\n"
          ],
          "name": "stdout"
        },
        {
          "output_type": "stream",
          "text": [
            "INFO:tensorflow:*** Available Device: _DeviceAttributes(/job:worker/replica:0/task:0/device:TPU:7, TPU, 0, 0)\n"
          ],
          "name": "stderr"
        },
        {
          "output_type": "stream",
          "text": [
            "INFO:tensorflow:*** Available Device: _DeviceAttributes(/job:worker/replica:0/task:0/device:TPU_SYSTEM:0, TPU_SYSTEM, 0, 0)\n"
          ],
          "name": "stdout"
        },
        {
          "output_type": "stream",
          "text": [
            "INFO:tensorflow:*** Available Device: _DeviceAttributes(/job:worker/replica:0/task:0/device:TPU_SYSTEM:0, TPU_SYSTEM, 0, 0)\n"
          ],
          "name": "stderr"
        },
        {
          "output_type": "stream",
          "text": [
            "INFO:tensorflow:*** Available Device: _DeviceAttributes(/job:worker/replica:0/task:0/device:XLA_CPU:0, XLA_CPU, 0, 0)\n"
          ],
          "name": "stdout"
        },
        {
          "output_type": "stream",
          "text": [
            "INFO:tensorflow:*** Available Device: _DeviceAttributes(/job:worker/replica:0/task:0/device:XLA_CPU:0, XLA_CPU, 0, 0)\n"
          ],
          "name": "stderr"
        },
        {
          "output_type": "stream",
          "text": [
            "Model: \"sequential_13\"\n",
            "_________________________________________________________________\n",
            "Layer (type)                 Output Shape              Param #   \n",
            "=================================================================\n",
            "batch_normalization_130 (Bat (None, 128, 128, 3)       12        \n",
            "_________________________________________________________________\n",
            "Conv1_1 (Conv2D)             (None, 128, 128, 64)      1792      \n",
            "_________________________________________________________________\n",
            "batch_normalization_131 (Bat (None, 128, 128, 64)      256       \n",
            "_________________________________________________________________\n",
            "activation_118 (Activation)  (None, 128, 128, 64)      0         \n",
            "_________________________________________________________________\n",
            "Conv1_2 (Conv2D)             (None, 128, 128, 64)      36928     \n",
            "_________________________________________________________________\n",
            "batch_normalization_132 (Bat (None, 128, 128, 64)      256       \n",
            "_________________________________________________________________\n",
            "activation_119 (Activation)  (None, 128, 128, 64)      0         \n",
            "_________________________________________________________________\n",
            "MaxPooling1 (MaxPooling2D)   (None, 64, 64, 64)        0         \n",
            "_________________________________________________________________\n",
            "dropout_78 (Dropout)         (None, 64, 64, 64)        0         \n",
            "_________________________________________________________________\n",
            "Conv2_1 (Conv2D)             (None, 64, 64, 128)       73856     \n",
            "_________________________________________________________________\n",
            "batch_normalization_133 (Bat (None, 64, 64, 128)       512       \n",
            "_________________________________________________________________\n",
            "activation_120 (Activation)  (None, 64, 64, 128)       0         \n",
            "_________________________________________________________________\n",
            "Conv2_2 (Conv2D)             (None, 64, 64, 128)       147584    \n",
            "_________________________________________________________________\n",
            "batch_normalization_134 (Bat (None, 64, 64, 128)       512       \n",
            "_________________________________________________________________\n",
            "activation_121 (Activation)  (None, 64, 64, 128)       0         \n",
            "_________________________________________________________________\n",
            "MaxPooling2 (MaxPooling2D)   (None, 32, 32, 128)       0         \n",
            "_________________________________________________________________\n",
            "dropout_79 (Dropout)         (None, 32, 32, 128)       0         \n",
            "_________________________________________________________________\n",
            "Conv3_1 (Conv2D)             (None, 32, 32, 256)       295168    \n",
            "_________________________________________________________________\n",
            "batch_normalization_135 (Bat (None, 32, 32, 256)       1024      \n",
            "_________________________________________________________________\n",
            "activation_122 (Activation)  (None, 32, 32, 256)       0         \n",
            "_________________________________________________________________\n",
            "Conv3_2 (Conv2D)             (None, 32, 32, 256)       590080    \n",
            "_________________________________________________________________\n",
            "batch_normalization_136 (Bat (None, 32, 32, 256)       1024      \n",
            "_________________________________________________________________\n",
            "activation_123 (Activation)  (None, 32, 32, 256)       0         \n",
            "_________________________________________________________________\n",
            "MaxPooling3 (MaxPooling2D)   (None, 16, 16, 256)       0         \n",
            "_________________________________________________________________\n",
            "dropout_80 (Dropout)         (None, 16, 16, 256)       0         \n",
            "_________________________________________________________________\n",
            "Conv4_1 (Conv2D)             (None, 16, 16, 512)       1180160   \n",
            "_________________________________________________________________\n",
            "batch_normalization_137 (Bat (None, 16, 16, 512)       2048      \n",
            "_________________________________________________________________\n",
            "activation_124 (Activation)  (None, 16, 16, 512)       0         \n",
            "_________________________________________________________________\n",
            "Conv4_2 (Conv2D)             (None, 16, 16, 512)       2359808   \n",
            "_________________________________________________________________\n",
            "batch_normalization_138 (Bat (None, 16, 16, 512)       2048      \n",
            "_________________________________________________________________\n",
            "activation_125 (Activation)  (None, 16, 16, 512)       0         \n",
            "_________________________________________________________________\n",
            "MaxPooling4 (MaxPooling2D)   (None, 8, 8, 512)         0         \n",
            "_________________________________________________________________\n",
            "dropout_81 (Dropout)         (None, 8, 8, 512)         0         \n",
            "_________________________________________________________________\n",
            "Conv5_1 (Conv2D)             (None, 8, 8, 512)         2359808   \n",
            "_________________________________________________________________\n",
            "batch_normalization_139 (Bat (None, 8, 8, 512)         2048      \n",
            "_________________________________________________________________\n",
            "activation_126 (Activation)  (None, 8, 8, 512)         0         \n",
            "_________________________________________________________________\n",
            "Conv5_2 (Conv2D)             (None, 8, 8, 512)         2359808   \n",
            "_________________________________________________________________\n",
            "batch_normalization_140 (Bat (None, 8, 8, 512)         2048      \n",
            "_________________________________________________________________\n",
            "activation_127 (Activation)  (None, 8, 8, 512)         0         \n",
            "_________________________________________________________________\n",
            "MaxPooling5 (MaxPooling2D)   (None, 4, 4, 512)         0         \n",
            "_________________________________________________________________\n",
            "dropout_82 (Dropout)         (None, 4, 4, 512)         0         \n",
            "_________________________________________________________________\n",
            "flatten_9 (Flatten)          (None, 8192)              0         \n",
            "_________________________________________________________________\n",
            "dense_18 (Dense)             (None, 1024)              8389632   \n",
            "_________________________________________________________________\n",
            "batch_normalization_141 (Bat (None, 1024)              4096      \n",
            "_________________________________________________________________\n",
            "activation_128 (Activation)  (None, 1024)              0         \n",
            "_________________________________________________________________\n",
            "dropout_83 (Dropout)         (None, 1024)              0         \n",
            "_________________________________________________________________\n",
            "dense_19 (Dense)             (None, 512)               524800    \n",
            "_________________________________________________________________\n",
            "batch_normalization_142 (Bat (None, 512)               2048      \n",
            "_________________________________________________________________\n",
            "activation_129 (Activation)  (None, 512)               0         \n",
            "_________________________________________________________________\n",
            "dropout_84 (Dropout)         (None, 512)               0         \n",
            "_________________________________________________________________\n",
            "fc11 (Dense)                 (None, 11)                5643      \n",
            "=================================================================\n",
            "Total params: 18,342,999\n",
            "Trainable params: 18,334,033\n",
            "Non-trainable params: 8,966\n",
            "_________________________________________________________________\n"
          ],
          "name": "stdout"
        }
      ]
    },
    {
      "cell_type": "code",
      "metadata": {
        "trusted": true,
        "id": "agDyWUI-TSNb",
        "colab_type": "code",
        "colab": {
          "base_uri": "https://localhost:8080/",
          "height": 292
        },
        "outputId": "ea5e318a-27d3-4c65-acbb-fce8be95c9e7"
      },
      "source": [
        "epochs = 5\n",
        "history_best = model_best.fit(train_val_aug_dataset, batch_size=batch_size, epochs=epochs, validation_data=val_dataset)"
      ],
      "execution_count": 72,
      "outputs": [
        {
          "output_type": "stream",
          "text": [
            "Epoch 1/5\n",
            " 2/52 [>.............................] - ETA: 16s - loss: 0.1042 - accuracy: 0.9668WARNING:tensorflow:Callbacks method `on_train_batch_end` is slow compared to the batch time (batch time: 0.0063s vs `on_train_batch_end` time: 0.1411s). Check your callbacks.\n"
          ],
          "name": "stdout"
        },
        {
          "output_type": "stream",
          "text": [
            "WARNING:tensorflow:Callbacks method `on_train_batch_end` is slow compared to the batch time (batch time: 0.0063s vs `on_train_batch_end` time: 0.1411s). Check your callbacks.\n"
          ],
          "name": "stderr"
        },
        {
          "output_type": "stream",
          "text": [
            "52/52 [==============================] - ETA: 0s - loss: 0.1316 - accuracy: 0.9540WARNING:tensorflow:Callbacks method `on_test_batch_end` is slow compared to the batch time (batch time: 0.0034s vs `on_test_batch_end` time: 0.0298s). Check your callbacks.\n"
          ],
          "name": "stdout"
        },
        {
          "output_type": "stream",
          "text": [
            "WARNING:tensorflow:Callbacks method `on_test_batch_end` is slow compared to the batch time (batch time: 0.0034s vs `on_test_batch_end` time: 0.0298s). Check your callbacks.\n"
          ],
          "name": "stderr"
        },
        {
          "output_type": "stream",
          "text": [
            "\b\b\b\b\b\b\b\b\b\b\b\b\b\b\b\b\b\b\b\b\b\b\b\b\b\b\b\b\b\b\b\b\b\b\b\b\b\b\b\b\b\b\b\b\b\b\b\b\b\b\b\b\b\b\b\b\b\b\b\b\b\b\b\b\b\b\b\b\b\b\b\b\b\b\b\b\b\b\b\b\b\b\r52/52 [==============================] - 9s 175ms/step - loss: 0.1316 - accuracy: 0.9540 - val_loss: 0.1440 - val_accuracy: 0.9499\n",
            "Epoch 2/5\n",
            "52/52 [==============================] - 9s 173ms/step - loss: 0.1201 - accuracy: 0.9593 - val_loss: 0.1605 - val_accuracy: 0.9464\n",
            "Epoch 3/5\n",
            "52/52 [==============================] - 9s 176ms/step - loss: 0.1074 - accuracy: 0.9633 - val_loss: 0.1073 - val_accuracy: 0.9618\n",
            "Epoch 4/5\n",
            "52/52 [==============================] - 9s 175ms/step - loss: 0.1172 - accuracy: 0.9605 - val_loss: 0.0854 - val_accuracy: 0.9706\n",
            "Epoch 5/5\n",
            "52/52 [==============================] - 9s 178ms/step - loss: 0.1157 - accuracy: 0.9592 - val_loss: 0.1079 - val_accuracy: 0.9653\n"
          ],
          "name": "stdout"
        }
      ]
    },
    {
      "cell_type": "code",
      "metadata": {
        "trusted": true,
        "id": "TtjcLKCXTSNc",
        "colab_type": "code",
        "colab": {
          "base_uri": "https://localhost:8080/",
          "height": 592
        },
        "outputId": "3c4f3c8c-c5bc-4238-a9c7-824f69f8b856"
      },
      "source": [
        "train_result_best = model_best.evaluate(train_val_dataset)\n",
        "print('Train Acc:', train_result_best[1])\n",
        "\n",
        "acc = history_best.history['accuracy']\n",
        "\n",
        "loss=history_best.history['loss']\n",
        "\n",
        "epochs_range = range(epochs)\n",
        "\n",
        "plt.figure(figsize=(8, 8))\n",
        "\n",
        "plt.plot(epochs_range, acc, label='Training Accuracy')\n",
        "plt.legend(loc='lower right')\n",
        "plt.title('Training Accuracy')\n",
        "\n",
        "plt.show()"
      ],
      "execution_count": 73,
      "outputs": [
        {
          "output_type": "stream",
          "text": [
            "\r 1/52 [..............................] - ETA: 21s - loss: 0.1371 - accuracy: 0.9570WARNING:tensorflow:Callbacks method `on_test_batch_end` is slow compared to the batch time (batch time: 0.0032s vs `on_test_batch_end` time: 0.0355s). Check your callbacks.\n"
          ],
          "name": "stdout"
        },
        {
          "output_type": "stream",
          "text": [
            "WARNING:tensorflow:Callbacks method `on_test_batch_end` is slow compared to the batch time (batch time: 0.0032s vs `on_test_batch_end` time: 0.0355s). Check your callbacks.\n"
          ],
          "name": "stderr"
        },
        {
          "output_type": "stream",
          "text": [
            "52/52 [==============================] - 2s 47ms/step - loss: 0.1030 - accuracy: 0.9656\n",
            "Train Acc: 0.9656288027763367\n"
          ],
          "name": "stdout"
        },
        {
          "output_type": "display_data",
          "data": {
            "image/png": "[encoded data removed]",
            "text/plain": [
              "<Figure size 576x576 with 1 Axes>"
            ]
          },
          "metadata": {
            "tags": [],
            "needs_background": "light"
          }
        }
      ]
    },
    {
      "cell_type": "code",
      "metadata": {
        "trusted": true,
        "id": "KWSGcQFMTSNf",
        "colab_type": "code",
        "colab": {}
      },
      "source": [
        "prediction = np.argmax(model_best.predict(test_x), axis=1)\n",
        "# with open(\"gdrive/My Drive/Colab Notebooks/Hung-yi Lee HW/HW3_CNN/predict_0902_1551.csv\", 'w') as f:\n",
        "with open(\"predict_0903_1436.csv\", 'w') as f:\n",
        "    f.write('Id,Category\\n')\n",
        "    for i, y in  enumerate(prediction):\n",
        "        f.write('{},{}\\n'.format(i, y))"
      ],
      "execution_count": 75,
      "outputs": []
    }
  ]
}
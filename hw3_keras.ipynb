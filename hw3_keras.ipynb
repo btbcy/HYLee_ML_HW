{
  "nbformat": 4,
  "nbformat_minor": 0,
  "metadata": {
    "colab": {
      "name": "hw3_keras.ipynb",
      "provenance": [],
      "collapsed_sections": [
        "xeK2cK0_1vTp",
        "bvA3z30BKSu4"
      ],
      "toc_visible": true,
      "authorship_tag": "ABX9TyPLK9dUtmATgGwSL8zEQdDF",
      "include_colab_link": true
    },
    "kernelspec": {
      "name": "python3",
      "display_name": "Python 3"
    },
    "accelerator": "GPU"
  },
  "cells": [
    {
      "cell_type": "markdown",
      "metadata": {
        "id": "view-in-github",
        "colab_type": "text"
      },
      "source": [
        "<a href=\"https://colab.research.google.com/github/btbcy/HYLee_ML_HW/blob/master/hw3_keras.ipynb\" target=\"_parent\"><img src=\"https://colab.research.google.com/assets/colab-badge.svg\" alt=\"Open In Colab\"/></a>"
      ]
    },
    {
      "cell_type": "code",
      "metadata": {
        "id": "EfnnetjVQ1-q",
        "colab_type": "code",
        "colab": {
          "base_uri": "https://localhost:8080/",
          "height": 128
        },
        "outputId": "a0c451ed-3619-4f86-c4a0-6203ba00d546"
      },
      "source": [
        "from google.colab import drive\n",
        "drive.mount('/content/gdrive')"
      ],
      "execution_count": 1,
      "outputs": [
        {
          "output_type": "stream",
          "text": [
            "Go to this URL in a browser: https://accounts.google.com/o/oauth2/auth?client_id=947318989803-6bn6qk8qdgf4n4g3pfee6491hc0brc4i.apps.googleusercontent.com&redirect_uri=urn%3aietf%3awg%3aoauth%3a2.0%3aoob&response_type=code&scope=email%20https%3a%2f%2fwww.googleapis.com%2fauth%2fdocs.test%20https%3a%2f%2fwww.googleapis.com%2fauth%2fdrive%20https%3a%2f%2fwww.googleapis.com%2fauth%2fdrive.photos.readonly%20https%3a%2f%2fwww.googleapis.com%2fauth%2fpeopleapi.readonly\n",
            "\n",
            "Enter your authorization code:\n",
            "··········\n",
            "Mounted at /content/gdrive\n"
          ],
          "name": "stdout"
        }
      ]
    },
    {
      "cell_type": "code",
      "metadata": {
        "id": "esLHcApMSRMw",
        "colab_type": "code",
        "colab": {}
      },
      "source": [
        "# import os\n",
        "# os.chdir(\"gdrive/My Drive/Colab Notebooks/Hung-yi Lee HW/HW3_CNN\") #更改路徑\n",
        "# os.getcwd() #查看當前路徑"
      ],
      "execution_count": null,
      "outputs": []
    },
    {
      "cell_type": "markdown",
      "metadata": {
        "id": "xeK2cK0_1vTp",
        "colab_type": "text"
      },
      "source": [
        "# unzip"
      ]
    },
    {
      "cell_type": "code",
      "metadata": {
        "id": "U0xEBW1OYxGQ",
        "colab_type": "code",
        "colab": {}
      },
      "source": [
        "# zip_path = 'gdrive/My Drive/Colab Notebooks/Hung-yi Lee HW/HW3_CNN/food-11.zip'\n",
        "!cp 'gdrive/My Drive/Colab Notebooks/Hung-yi Lee HW/HW3_CNN/food-11.zip' .\n",
        "!unzip -q food-11.zip\n",
        "!rm food-11.zip"
      ],
      "execution_count": 2,
      "outputs": []
    },
    {
      "cell_type": "markdown",
      "metadata": {
        "id": "0vtl4vnYSHri",
        "colab_type": "text"
      },
      "source": [
        "# import"
      ]
    },
    {
      "cell_type": "code",
      "metadata": {
        "id": "4eplJQs2SOxl",
        "colab_type": "code",
        "colab": {}
      },
      "source": [
        "import os\n",
        "import numpy as np\n",
        "import cv2\n",
        "# import time\n",
        "\n",
        "import tensorflow as tf\n",
        "from tensorflow import keras\n",
        "from tensorflow.keras import layers"
      ],
      "execution_count": 3,
      "outputs": []
    },
    {
      "cell_type": "markdown",
      "metadata": {
        "id": "fEPxuGktaOTH",
        "colab_type": "text"
      },
      "source": [
        "# read data"
      ]
    },
    {
      "cell_type": "code",
      "metadata": {
        "id": "GBTi3-IYSiFh",
        "colab_type": "code",
        "colab": {}
      },
      "source": [
        "def readfile(path, label):\n",
        "    # label 是一個 boolean variable，代表需不需要回傳 y 值\n",
        "    image_dir = sorted(os.listdir(path))\n",
        "    # x = np.zeros((len(image_dir), 128, 128, 3), dtype=np.uint8)\n",
        "    x = np.zeros((len(image_dir), 128, 128, 3), dtype=np.float32)\n",
        "    y = np.zeros((len(image_dir)), dtype=np.uint8)\n",
        "    for i, file in enumerate(image_dir):\n",
        "        img = cv2.imread(os.path.join(path, file))\n",
        "        x[i, :, :] = cv2.resize(img,(128, 128)) * 1.0 / 255.0\n",
        "        # do normalization on augmentation\n",
        "        # x[i, :, :] = cv2.resize(img,(128, 128))\n",
        "        if label:\n",
        "          # keras.utils.to_categorical(int(file.split(\"_\")[0]), num_classes=11)\n",
        "          y[i] = int(file.split(\"_\")[0])\n",
        "    if label:\n",
        "      return x, y\n",
        "    else:\n",
        "      return x"
      ],
      "execution_count": 4,
      "outputs": []
    },
    {
      "cell_type": "code",
      "metadata": {
        "id": "zCID5PGySpGJ",
        "colab_type": "code",
        "colab": {
          "base_uri": "https://localhost:8080/",
          "height": 89
        },
        "outputId": "b034abb6-d3b9-48ca-a270-558345a156e7"
      },
      "source": [
        "# 分別將 training set、validation set、testing set 用 readfile 函式讀進來\n",
        "workspace_dir = './food-11'\n",
        "print(\"Reading data\")\n",
        "train_x, train_y = readfile(os.path.join(workspace_dir, \"training\"), True)\n",
        "print(\"Size of training data = {}\".format(len(train_x)))\n",
        "val_x, val_y = readfile(os.path.join(workspace_dir, \"validation\"), True)\n",
        "print(\"Size of validation data = {}\".format(len(val_x)))\n",
        "test_x = readfile(os.path.join(workspace_dir, \"testing\"), False)\n",
        "print(\"Size of Testing data = {}\".format(len(test_x)))"
      ],
      "execution_count": 5,
      "outputs": [
        {
          "output_type": "stream",
          "text": [
            "Reading data\n",
            "Size of training data = 9866\n",
            "Size of validation data = 3430\n",
            "Size of Testing data = 3347\n"
          ],
          "name": "stdout"
        }
      ]
    },
    {
      "cell_type": "markdown",
      "metadata": {
        "id": "bvA3z30BKSu4",
        "colab_type": "text"
      },
      "source": [
        "## test data"
      ]
    },
    {
      "cell_type": "code",
      "metadata": {
        "id": "-53gkUWFSqt4",
        "colab_type": "code",
        "colab": {
          "base_uri": "https://localhost:8080/",
          "height": 145
        },
        "outputId": "95ff9ec0-277c-446e-bf06-a5a798ded83f"
      },
      "source": [
        "from google.colab.patches import cv2_imshow\n",
        "cv2_imshow(train_x[1]*255)"
      ],
      "execution_count": null,
      "outputs": [
        {
          "output_type": "display_data",
          "data": {
            "image/png": "[encoded data removed]",
            "text/plain": [
              "<PIL.Image.Image image mode=RGB size=128x128 at 0x7EFCDA87A860>"
            ]
          },
          "metadata": {
            "tags": []
          }
        }
      ]
    },
    {
      "cell_type": "code",
      "metadata": {
        "id": "bCQfMzTAHc79",
        "colab_type": "code",
        "colab": {
          "base_uri": "https://localhost:8080/",
          "height": 850
        },
        "outputId": "2f9a6993-297f-4993-f7b9-6e71d7e95559"
      },
      "source": [
        "train_x[1]"
      ],
      "execution_count": null,
      "outputs": [
        {
          "output_type": "execute_result",
          "data": {
            "text/plain": [
              "array([[[0.03137255, 0.01568628, 0.01960784],\n",
              "        [0.02352941, 0.01176471, 0.01176471],\n",
              "        [0.01568628, 0.00784314, 0.00784314],\n",
              "        ...,\n",
              "        [0.03921569, 0.01176471, 0.00784314],\n",
              "        [0.        , 0.00392157, 0.        ],\n",
              "        [0.01960784, 0.        , 0.00784314]],\n",
              "\n",
              "       [[0.03137255, 0.05490196, 0.03529412],\n",
              "        [0.5058824 , 0.54901963, 0.5137255 ],\n",
              "        [0.58431375, 0.6313726 , 0.5921569 ],\n",
              "        ...,\n",
              "        [0.02745098, 0.03529412, 0.04313726],\n",
              "        [0.        , 0.00784314, 0.00784314],\n",
              "        [0.01960784, 0.        , 0.00392157]],\n",
              "\n",
              "       [[0.61960787, 0.6901961 , 0.6392157 ],\n",
              "        [0.6117647 , 0.6862745 , 0.63529414],\n",
              "        [0.60784316, 0.6901961 , 0.6313726 ],\n",
              "        ...,\n",
              "        [0.35686275, 0.34117648, 0.3529412 ],\n",
              "        [0.02352941, 0.00784314, 0.01176471],\n",
              "        [0.01176471, 0.        , 0.        ]],\n",
              "\n",
              "       ...,\n",
              "\n",
              "       [[0.11372549, 0.01176471, 0.3764706 ],\n",
              "        [0.11372549, 0.01960784, 0.36078432],\n",
              "        [0.11764706, 0.01960784, 0.3647059 ],\n",
              "        ...,\n",
              "        [0.6156863 , 0.7607843 , 0.7647059 ],\n",
              "        [0.03921569, 0.07058824, 0.07843138],\n",
              "        [0.01176471, 0.        , 0.00392157]],\n",
              "\n",
              "       [[0.13333334, 0.02352941, 0.4392157 ],\n",
              "        [0.12156863, 0.00784314, 0.41568628],\n",
              "        [0.12941177, 0.02352941, 0.40392157],\n",
              "        ...,\n",
              "        [0.6509804 , 0.75686276, 0.7647059 ],\n",
              "        [0.00392157, 0.01568628, 0.01960784],\n",
              "        [0.00784314, 0.00392157, 0.00392157]],\n",
              "\n",
              "       [[0.01960784, 0.00392157, 0.13333334],\n",
              "        [0.11764706, 0.05098039, 0.33333334],\n",
              "        [0.1254902 , 0.02745098, 0.38039216],\n",
              "        ...,\n",
              "        [0.10588235, 0.14117648, 0.15294118],\n",
              "        [0.03137255, 0.01568628, 0.01960784],\n",
              "        [0.01176471, 0.00784314, 0.00392157]]], dtype=float32)"
            ]
          },
          "metadata": {
            "tags": []
          },
          "execution_count": 14
        }
      ]
    },
    {
      "cell_type": "markdown",
      "metadata": {
        "id": "3KrUqa_GKqFZ",
        "colab_type": "text"
      },
      "source": [
        "## preprocessing"
      ]
    },
    {
      "cell_type": "code",
      "metadata": {
        "id": "ov44SJVWE1vc",
        "colab_type": "code",
        "colab": {}
      },
      "source": [
        "# # Normalize pixel values to be between 0 and 1\n",
        "# train_x = train_x / 255\n",
        "# val_x = val_x / 255\n",
        "# test_x = test_x / 255\n",
        "\n",
        "# Converts a class vector (integers) to binary class matrix.\n",
        "train_y = keras.utils.to_categorical(train_y, num_classes=11)\n",
        "val_y = keras.utils.to_categorical(val_y, num_classes=11)"
      ],
      "execution_count": 6,
      "outputs": []
    },
    {
      "cell_type": "code",
      "metadata": {
        "id": "3XBXPevGDkWo",
        "colab_type": "code",
        "colab": {}
      },
      "source": [
        "index = np.arange(len(train_x))\n",
        "np.random.shuffle(index)\n",
        "train_x = train_x[index]\n",
        "train_y = train_y[index]"
      ],
      "execution_count": 7,
      "outputs": []
    },
    {
      "cell_type": "markdown",
      "metadata": {
        "id": "xy7t4be8afD3",
        "colab_type": "text"
      },
      "source": [
        "# augmentation"
      ]
    },
    {
      "cell_type": "code",
      "metadata": {
        "id": "iX7thyS5apl4",
        "colab_type": "code",
        "colab": {}
      },
      "source": [
        "train_datagen = keras.preprocessing.image.ImageDataGenerator(\n",
        "    # featurewise_center=True,\n",
        "    # featurewise_std_normalization=True,\n",
        "    # rescale=1./255,\n",
        "    rotation_range=15,\n",
        "    # width_shift_range=0.2,\n",
        "    # height_shift_range=0.2,\n",
        "    # shear_range=0.2,\n",
        "    # zoom_range=0.2,\n",
        "    horizontal_flip=True,\n",
        ")\n",
        "# test_datagen = keras.preprocessing.image.ImageDataGenerator(\n",
        "#     rescale=1./255\n",
        "# )\n",
        "\n",
        "# compute quantities required for featurewise normalization\n",
        "# (std, mean, and principal components if ZCA whitening is applied)\n",
        "# datagen.fit(x_train)"
      ],
      "execution_count": 48,
      "outputs": []
    },
    {
      "cell_type": "markdown",
      "metadata": {
        "id": "TLQuOZ5-aSpA",
        "colab_type": "text"
      },
      "source": [
        "# model"
      ]
    },
    {
      "cell_type": "code",
      "metadata": {
        "id": "xAgUGT__Gvl6",
        "colab_type": "code",
        "colab": {
          "base_uri": "https://localhost:8080/",
          "height": 742
        },
        "outputId": "10f48db0-f240-4f1f-859b-8682ded3f13e"
      },
      "source": [
        "model = keras.Sequential([\n",
        "  # layers.Conv2D(filters=64, kernel_size=(3, 3), activation='relu', input_shape=(128, 128, 3)),\n",
        "  layers.Conv2D(filters=64, kernel_size=(3, 3), padding='same', activation='relu', input_shape=(128, 128, 3)),\n",
        "  # layers.Conv2D(filters=64, kernel_size=(3, 3), padding='same', activation=None, input_shape=(128, 128, 3)),\n",
        "  # layers.BatchNormalization(),\n",
        "  # layers.Activation('relu'),\n",
        "  layers.MaxPool2D(pool_size=(2, 2)),\n",
        "  layers.Dropout(0.2),\n",
        "\n",
        "  layers.Conv2D(filters=128, kernel_size=(3, 3), padding='same', activation='relu'),\n",
        "  # layers.Conv2D(filters=128, kernel_size=(3, 3), padding='same', activation=None),\n",
        "  # layers.BatchNormalization(),\n",
        "  # layers.Activation('relu'),\n",
        "  layers.MaxPool2D(pool_size=(2, 2)),\n",
        "  layers.Dropout(0.2),\n",
        "\n",
        "  layers.Conv2D(filters=256, kernel_size=(3, 3), padding='same', activation='relu'),\n",
        "  # layers.Conv2D(filters=256, kernel_size=(3, 3), padding='same', activation=None),\n",
        "  # layers.BatchNormalization(),\n",
        "  # layers.Activation('relu'),\n",
        "  layers.MaxPool2D(pool_size=(2, 2)),\n",
        "  layers.Dropout(0.4),\n",
        "\n",
        "  layers.Conv2D(filters=512, kernel_size=(3, 3), padding='same', activation='relu'),\n",
        "  # layers.Conv2D(filters=512, kernel_size=(3, 3), padding='same', activation=None),\n",
        "  # layers.BatchNormalization(),\n",
        "  # layers.Activation('relu'),\n",
        "  layers.MaxPool2D(pool_size=(2, 2)),\n",
        "  layers.Dropout(0.4),\n",
        "\n",
        "  # layers.Conv2D(filters=128, kernel_size=(3, 3), padding='same', activation='relu'),\n",
        "  # layers.MaxPool2D(pool_size=(2, 2)),\n",
        "  layers.Flatten(),\n",
        "  # layers.Dense(units=512, activation='relu', kernel_regularizer=keras.regularizers.l2(0.001)),\n",
        "  layers.Dense(units=256, activation='relu'),\n",
        "  layers.Dense(units=256, activation='relu'),\n",
        "  layers.Dense(units=11, activation='softmax')\n",
        "])\n",
        "\n",
        "model.compile(\n",
        "  loss='categorical_crossentropy',\n",
        "  optimizer=keras.optimizers.Adam(),\n",
        "  metrics=['accuracy']\n",
        ")\n",
        "\n",
        "model.summary()"
      ],
      "execution_count": 49,
      "outputs": [
        {
          "output_type": "stream",
          "text": [
            "Model: \"sequential_12\"\n",
            "_________________________________________________________________\n",
            "Layer (type)                 Output Shape              Param #   \n",
            "=================================================================\n",
            "conv2d_48 (Conv2D)           (None, 128, 128, 64)      1792      \n",
            "_________________________________________________________________\n",
            "max_pooling2d_48 (MaxPooling (None, 64, 64, 64)        0         \n",
            "_________________________________________________________________\n",
            "dropout_22 (Dropout)         (None, 64, 64, 64)        0         \n",
            "_________________________________________________________________\n",
            "conv2d_49 (Conv2D)           (None, 64, 64, 128)       73856     \n",
            "_________________________________________________________________\n",
            "max_pooling2d_49 (MaxPooling (None, 32, 32, 128)       0         \n",
            "_________________________________________________________________\n",
            "dropout_23 (Dropout)         (None, 32, 32, 128)       0         \n",
            "_________________________________________________________________\n",
            "conv2d_50 (Conv2D)           (None, 32, 32, 256)       295168    \n",
            "_________________________________________________________________\n",
            "max_pooling2d_50 (MaxPooling (None, 16, 16, 256)       0         \n",
            "_________________________________________________________________\n",
            "dropout_24 (Dropout)         (None, 16, 16, 256)       0         \n",
            "_________________________________________________________________\n",
            "conv2d_51 (Conv2D)           (None, 16, 16, 512)       1180160   \n",
            "_________________________________________________________________\n",
            "max_pooling2d_51 (MaxPooling (None, 8, 8, 512)         0         \n",
            "_________________________________________________________________\n",
            "dropout_25 (Dropout)         (None, 8, 8, 512)         0         \n",
            "_________________________________________________________________\n",
            "flatten_12 (Flatten)         (None, 32768)             0         \n",
            "_________________________________________________________________\n",
            "dense_36 (Dense)             (None, 256)               8388864   \n",
            "_________________________________________________________________\n",
            "dense_37 (Dense)             (None, 256)               65792     \n",
            "_________________________________________________________________\n",
            "dense_38 (Dense)             (None, 11)                2827      \n",
            "=================================================================\n",
            "Total params: 10,008,459\n",
            "Trainable params: 10,008,459\n",
            "Non-trainable params: 0\n",
            "_________________________________________________________________\n"
          ],
          "name": "stdout"
        }
      ]
    },
    {
      "cell_type": "markdown",
      "metadata": {
        "id": "5-L0KfhuaVV-",
        "colab_type": "text"
      },
      "source": [
        "# train"
      ]
    },
    {
      "cell_type": "code",
      "metadata": {
        "id": "5D8NRdtePd9-",
        "colab_type": "code",
        "colab": {
          "base_uri": "https://localhost:8080/",
          "height": 379
        },
        "outputId": "132f5cb6-2195-4d52-d5c9-59a3a9dd4120"
      },
      "source": [
        "batch_size = 128\n",
        "epochs = 10\n",
        "# history = model.fit(train_x, train_y, batch_size=128, epochs=epochs, validation_data=(val_x, val_y))\n",
        "# history = model.fit(train_x, train_y, batch_size=128, epochs=epochs, validation_split=0.3)\n",
        "\n",
        "# With TensorFlow 2.2+ we now use .fit instead of .fit_generator \n",
        "# which works the exact same way under the hood to accommodate data augmentation \n",
        "# if the first argument provided is a Python generator object.  \n",
        "\n",
        "history = model.fit(train_datagen.flow(train_x, train_y, batch_size=batch_size),\n",
        "    steps_per_epoch=len(train_x)//batch_size, \n",
        "    epochs=epochs,\n",
        "    # verbose=2,\n",
        "    # validation_data=test_datagen.flow(val_x, val_y, batch_size=batch_size)\n",
        "    validation_data=(val_x, val_y)\n",
        ")\n"
      ],
      "execution_count": 52,
      "outputs": [
        {
          "output_type": "stream",
          "text": [
            "Epoch 1/10\n",
            "77/77 [==============================] - 48s 622ms/step - loss: 0.8624 - accuracy: 0.7002 - val_loss: 1.3572 - val_accuracy: 0.5793\n",
            "Epoch 2/10\n",
            "77/77 [==============================] - 47s 615ms/step - loss: 0.7910 - accuracy: 0.7257 - val_loss: 1.3996 - val_accuracy: 0.5598\n",
            "Epoch 3/10\n",
            "77/77 [==============================] - 48s 620ms/step - loss: 0.7506 - accuracy: 0.7392 - val_loss: 1.4178 - val_accuracy: 0.5717\n",
            "Epoch 4/10\n",
            "77/77 [==============================] - 48s 623ms/step - loss: 0.7578 - accuracy: 0.7376 - val_loss: 1.4409 - val_accuracy: 0.5554\n",
            "Epoch 5/10\n",
            "77/77 [==============================] - 48s 624ms/step - loss: 0.7598 - accuracy: 0.7363 - val_loss: 1.2866 - val_accuracy: 0.6015\n",
            "Epoch 6/10\n",
            "77/77 [==============================] - 48s 625ms/step - loss: 0.6776 - accuracy: 0.7620 - val_loss: 1.3181 - val_accuracy: 0.5971\n",
            "Epoch 7/10\n",
            "77/77 [==============================] - 48s 626ms/step - loss: 0.6386 - accuracy: 0.7783 - val_loss: 1.3520 - val_accuracy: 0.5828\n",
            "Epoch 8/10\n",
            "77/77 [==============================] - 48s 624ms/step - loss: 0.6325 - accuracy: 0.7789 - val_loss: 1.3572 - val_accuracy: 0.5904\n",
            "Epoch 9/10\n",
            "77/77 [==============================] - 48s 624ms/step - loss: 0.5968 - accuracy: 0.7919 - val_loss: 1.3967 - val_accuracy: 0.6026\n",
            "Epoch 10/10\n",
            "77/77 [==============================] - 48s 624ms/step - loss: 0.5457 - accuracy: 0.8150 - val_loss: 1.4285 - val_accuracy: 0.5904\n"
          ],
          "name": "stdout"
        }
      ]
    },
    {
      "cell_type": "markdown",
      "metadata": {
        "id": "LgcXzQ5maZTP",
        "colab_type": "text"
      },
      "source": [
        "# evaluate"
      ]
    },
    {
      "cell_type": "code",
      "metadata": {
        "id": "it-ZuuYyVtaS",
        "colab_type": "code",
        "colab": {
          "base_uri": "https://localhost:8080/",
          "height": 89
        },
        "outputId": "45f1bc72-92bd-4b7f-badd-4fe52fc2f076"
      },
      "source": [
        "# evaluate the model and output the accuracy\n",
        "train_result = model.evaluate(train_x, train_y)\n",
        "val_result = model.evaluate(val_x, val_y)\n",
        "print('Train Acc:', train_result[1])\n",
        "print('Test Acc:', val_result[1])"
      ],
      "execution_count": 53,
      "outputs": [
        {
          "output_type": "stream",
          "text": [
            "309/309 [==============================] - 7s 24ms/step - loss: 0.4031 - accuracy: 0.8727\n",
            "108/108 [==============================] - 2s 23ms/step - loss: 1.4285 - accuracy: 0.5904\n",
            "Train Acc: 0.8726940751075745\n",
            "Test Acc: 0.590378999710083\n"
          ],
          "name": "stdout"
        }
      ]
    },
    {
      "cell_type": "markdown",
      "metadata": {
        "id": "dMmMllplab8e",
        "colab_type": "text"
      },
      "source": [
        "# prediction"
      ]
    },
    {
      "cell_type": "code",
      "metadata": {
        "id": "bzpayoYJYEw0",
        "colab_type": "code",
        "colab": {}
      },
      "source": [
        "prediction = model.predict(test_x)"
      ],
      "execution_count": null,
      "outputs": []
    },
    {
      "cell_type": "code",
      "metadata": {
        "id": "odgRXvFNYWfX",
        "colab_type": "code",
        "colab": {
          "base_uri": "https://localhost:8080/",
          "height": 144
        },
        "outputId": "e6e3c1a6-2e71-45db-963f-62c786bc6075"
      },
      "source": [
        "train_y"
      ],
      "execution_count": null,
      "outputs": [
        {
          "output_type": "execute_result",
          "data": {
            "text/plain": [
              "array([[1., 0., 0., ..., 0., 0., 0.],\n",
              "       [1., 0., 0., ..., 0., 0., 0.],\n",
              "       [1., 0., 0., ..., 0., 0., 0.],\n",
              "       ...,\n",
              "       [1., 0., 0., ..., 0., 0., 0.],\n",
              "       [1., 0., 0., ..., 0., 0., 0.],\n",
              "       [1., 0., 0., ..., 0., 0., 0.]], dtype=float32)"
            ]
          },
          "metadata": {
            "tags": []
          },
          "execution_count": 28
        }
      ]
    }
  ]
}